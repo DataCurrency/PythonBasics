{
 "cells": [
  {
   "cell_type": "markdown",
   "id": "542e5990",
   "metadata": {
    "papermill": {
     "duration": 0.019691,
     "end_time": "2022-01-05T20:11:06.068485",
     "exception": false,
     "start_time": "2022-01-05T20:11:06.048794",
     "status": "completed"
    },
    "tags": []
   },
   "source": [
    "**This notebook is an exercise in the [Python](https://www.kaggle.com/learn/python) course.  You can reference the tutorial at [this link](https://www.kaggle.com/colinmorris/functions-and-getting-help).**\n",
    "\n",
    "---\n"
   ]
  },
  {
   "cell_type": "markdown",
   "id": "8785e053",
   "metadata": {
    "papermill": {
     "duration": 0.01458,
     "end_time": "2022-01-05T20:11:06.101369",
     "exception": false,
     "start_time": "2022-01-05T20:11:06.086789",
     "status": "completed"
    },
    "tags": []
   },
   "source": [
    "Functions are powerful. Try writing some yourself.\n",
    "\n",
    "As before, don't forget to run the setup code below before jumping into question 1."
   ]
  },
  {
   "cell_type": "code",
   "execution_count": 1,
   "id": "c5abe86c",
   "metadata": {
    "_kg_hide-input": true,
    "_kg_hide-output": true,
    "execution": {
     "iopub.execute_input": "2022-01-05T20:11:06.144040Z",
     "iopub.status.busy": "2022-01-05T20:11:06.139855Z",
     "iopub.status.idle": "2022-01-05T20:11:06.194595Z",
     "shell.execute_reply": "2022-01-05T20:11:06.193629Z",
     "shell.execute_reply.started": "2022-01-05T20:07:21.176125Z"
    },
    "papermill": {
     "duration": 0.078721,
     "end_time": "2022-01-05T20:11:06.194852",
     "exception": false,
     "start_time": "2022-01-05T20:11:06.116131",
     "status": "completed"
    },
    "tags": []
   },
   "outputs": [
    {
     "name": "stdout",
     "output_type": "stream",
     "text": [
      "Setup complete.\n"
     ]
    }
   ],
   "source": [
    "# SETUP. You don't need to worry for now about what this code does or how it works.\n",
    "from learntools.core import binder; binder.bind(globals())\n",
    "from learntools.python.ex2 import *\n",
    "print('Setup complete.')"
   ]
  },
  {
   "cell_type": "markdown",
   "id": "c7b5e252",
   "metadata": {
    "papermill": {
     "duration": 0.014838,
     "end_time": "2022-01-05T20:11:06.226389",
     "exception": false,
     "start_time": "2022-01-05T20:11:06.211551",
     "status": "completed"
    },
    "tags": []
   },
   "source": [
    "# 1.\n",
    "\n",
    "Complete the body of the following function according to its docstring.\n",
    "\n",
    "HINT: Python has a built-in function `round`."
   ]
  },
  {
   "cell_type": "code",
   "execution_count": 2,
   "id": "598efa16",
   "metadata": {
    "execution": {
     "iopub.execute_input": "2022-01-05T20:11:06.267001Z",
     "iopub.status.busy": "2022-01-05T20:11:06.266255Z",
     "iopub.status.idle": "2022-01-05T20:11:06.270815Z",
     "shell.execute_reply": "2022-01-05T20:11:06.271315Z",
     "shell.execute_reply.started": "2022-01-05T20:09:50.818495Z"
    },
    "papermill": {
     "duration": 0.029924,
     "end_time": "2022-01-05T20:11:06.271483",
     "exception": false,
     "start_time": "2022-01-05T20:11:06.241559",
     "status": "completed"
    },
    "tags": []
   },
   "outputs": [
    {
     "data": {
      "application/javascript": [
       "parent.postMessage({\"jupyterEvent\": \"custom.exercise_interaction\", \"data\": {\"outcomeType\": 1, \"valueTowardsCompletion\": 0.16666666666666666, \"interactionType\": 1, \"questionType\": 2, \"questionId\": \"1_RoundFunctionProblem\", \"learnToolsVersion\": \"0.3.4\", \"failureMessage\": \"\", \"exceptionClass\": \"\", \"trace\": \"\"}}, \"*\")"
      ],
      "text/plain": [
       "<IPython.core.display.Javascript object>"
      ]
     },
     "metadata": {},
     "output_type": "display_data"
    },
    {
     "data": {
      "text/markdown": [
       "<span style=\"color:#33cc33\">Correct</span>"
      ],
      "text/plain": [
       "Correct"
      ]
     },
     "metadata": {},
     "output_type": "display_data"
    }
   ],
   "source": [
    "def round_to_two_places(num):\n",
    "    \"\"\"Return the given number rounded to two decimal places. \n",
    "    \n",
    "    >>> round_to_two_places(3.14159)\n",
    "    3.14\n",
    "    \"\"\"\n",
    "    return round(num,2)\n",
    "    # Replace this body with your own code.\n",
    "    # (\"pass\" is a keyword that does literally nothing. We used it as a placeholder\n",
    "    # because after we begin a code block, Python requires at least one line of code)\n",
    "    pass\n",
    "\n",
    "# Check your answer\n",
    "q1.check()"
   ]
  },
  {
   "cell_type": "code",
   "execution_count": 3,
   "id": "4ffe0428",
   "metadata": {
    "execution": {
     "iopub.execute_input": "2022-01-05T20:11:06.312105Z",
     "iopub.status.busy": "2022-01-05T20:11:06.311033Z",
     "iopub.status.idle": "2022-01-05T20:11:06.321111Z",
     "shell.execute_reply": "2022-01-05T20:11:06.321659Z",
     "shell.execute_reply.started": "2022-01-05T20:09:53.614210Z"
    },
    "papermill": {
     "duration": 0.034093,
     "end_time": "2022-01-05T20:11:06.321841",
     "exception": false,
     "start_time": "2022-01-05T20:11:06.287748",
     "status": "completed"
    },
    "tags": []
   },
   "outputs": [
    {
     "data": {
      "application/javascript": [
       "parent.postMessage({\"jupyterEvent\": \"custom.exercise_interaction\", \"data\": {\"interactionType\": 2, \"questionType\": 2, \"questionId\": \"1_RoundFunctionProblem\", \"learnToolsVersion\": \"0.3.4\", \"valueTowardsCompletion\": 0.0, \"failureMessage\": \"\", \"exceptionClass\": \"\", \"trace\": \"\", \"outcomeType\": 4}}, \"*\")"
      ],
      "text/plain": [
       "<IPython.core.display.Javascript object>"
      ]
     },
     "metadata": {},
     "output_type": "display_data"
    },
    {
     "data": {
      "text/markdown": [
       "<span style=\"color:#3366cc\">Hint:</span> Run `help(round)` in the console (or in a code cell) to learn more about the round function. You'll need to use the function's optional second argument."
      ],
      "text/plain": [
       "Hint: Run `help(round)` in the console (or in a code cell) to learn more about the round function. You'll need to use the function's optional second argument."
      ]
     },
     "metadata": {},
     "output_type": "display_data"
    },
    {
     "data": {
      "application/javascript": [
       "parent.postMessage({\"jupyterEvent\": \"custom.exercise_interaction\", \"data\": {\"interactionType\": 3, \"questionType\": 2, \"questionId\": \"1_RoundFunctionProblem\", \"learnToolsVersion\": \"0.3.4\", \"valueTowardsCompletion\": 0.0, \"failureMessage\": \"\", \"exceptionClass\": \"\", \"trace\": \"\", \"outcomeType\": 4}}, \"*\")"
      ],
      "text/plain": [
       "<IPython.core.display.Javascript object>"
      ]
     },
     "metadata": {},
     "output_type": "display_data"
    },
    {
     "data": {
      "text/markdown": [
       "<span style=\"color:#33cc99\">Solution:</span> \n",
       "```python\n",
       "return round(num, 2)\n",
       "```"
      ],
      "text/plain": [
       "Solution: \n",
       "```python\n",
       "return round(num, 2)\n",
       "```"
      ]
     },
     "metadata": {},
     "output_type": "display_data"
    }
   ],
   "source": [
    "# Uncomment the following for a hint\n",
    "q1.hint()\n",
    "# Or uncomment the following to peek at the solution\n",
    "q1.solution()"
   ]
  },
  {
   "cell_type": "markdown",
   "id": "fb82f8a9",
   "metadata": {
    "papermill": {
     "duration": 0.017724,
     "end_time": "2022-01-05T20:11:06.357779",
     "exception": false,
     "start_time": "2022-01-05T20:11:06.340055",
     "status": "completed"
    },
    "tags": []
   },
   "source": [
    "# 2.\n",
    "The help for `round` says that `ndigits` (the second argument) may be negative.\n",
    "What do you think will happen when it is? Try some examples in the following cell."
   ]
  },
  {
   "cell_type": "code",
   "execution_count": 4,
   "id": "d70862e8",
   "metadata": {
    "execution": {
     "iopub.execute_input": "2022-01-05T20:11:06.397667Z",
     "iopub.status.busy": "2022-01-05T20:11:06.396999Z",
     "iopub.status.idle": "2022-01-05T20:11:06.405588Z",
     "shell.execute_reply": "2022-01-05T20:11:06.405025Z",
     "shell.execute_reply.started": "2022-01-05T20:09:56.635674Z"
    },
    "papermill": {
     "duration": 0.029825,
     "end_time": "2022-01-05T20:11:06.405736",
     "exception": false,
     "start_time": "2022-01-05T20:11:06.375911",
     "status": "completed"
    },
    "tags": []
   },
   "outputs": [
    {
     "name": "stdout",
     "output_type": "stream",
     "text": [
      "Help on built-in function round in module builtins:\n",
      "\n",
      "round(number, ndigits=None)\n",
      "    Round a number to a given precision in decimal digits.\n",
      "    \n",
      "    The return value is an integer if ndigits is omitted or None.  Otherwise\n",
      "    the return value has the same type as the number.  ndigits may be negative.\n",
      "\n"
     ]
    },
    {
     "data": {
      "text/plain": [
       "12344000"
      ]
     },
     "execution_count": 4,
     "metadata": {},
     "output_type": "execute_result"
    }
   ],
   "source": [
    "# Put your test code here\n",
    "help(round)\n",
    "round(12343564 , ndigits=-3)"
   ]
  },
  {
   "cell_type": "markdown",
   "id": "88409ff7",
   "metadata": {
    "papermill": {
     "duration": 0.018869,
     "end_time": "2022-01-05T20:11:06.443468",
     "exception": false,
     "start_time": "2022-01-05T20:11:06.424599",
     "status": "completed"
    },
    "tags": []
   },
   "source": [
    "Can you think of a case where this would be useful?  Once you're ready, run the code cell below to see the answer and to receive credit for completing the problem."
   ]
  },
  {
   "cell_type": "code",
   "execution_count": 5,
   "id": "5ec9af40",
   "metadata": {
    "execution": {
     "iopub.execute_input": "2022-01-05T20:11:06.487592Z",
     "iopub.status.busy": "2022-01-05T20:11:06.486762Z",
     "iopub.status.idle": "2022-01-05T20:11:06.493223Z",
     "shell.execute_reply": "2022-01-05T20:11:06.492592Z",
     "shell.execute_reply.started": "2022-01-05T20:10:03.844804Z"
    },
    "papermill": {
     "duration": 0.030859,
     "end_time": "2022-01-05T20:11:06.493367",
     "exception": false,
     "start_time": "2022-01-05T20:11:06.462508",
     "status": "completed"
    },
    "tags": []
   },
   "outputs": [
    {
     "data": {
      "application/javascript": [
       "parent.postMessage({\"jupyterEvent\": \"custom.exercise_interaction\", \"data\": {\"interactionType\": 3, \"questionType\": 4, \"questionId\": \"2_RoundNdigitsProblem\", \"learnToolsVersion\": \"0.3.4\", \"valueTowardsCompletion\": 0.0, \"failureMessage\": \"\", \"exceptionClass\": \"\", \"trace\": \"\", \"outcomeType\": 4}}, \"*\")"
      ],
      "text/plain": [
       "<IPython.core.display.Javascript object>"
      ]
     },
     "metadata": {},
     "output_type": "display_data"
    },
    {
     "data": {
      "text/markdown": [
       "<span style=\"color:#33cc99\">Solution:</span> As you've seen, `ndigits=-1` rounds to the nearest 10, `ndigits=-2` rounds to the nearest 100 and so on. Where might this be useful? Suppose we're dealing with large numbers:\n",
       "\n",
       "> The area of Finland is 338,424 km²  \n",
       "> The area of Greenland is 2,166,086 km²\n",
       "\n",
       "We probably don't care whether it's really 338,424, or 338,425, or 338,177. All those digits of accuracy are just distracting. We can chop them off by calling `round()` with `ndigits=-3`:\n",
       "\n",
       "> The area of Finland is 338,000 km²  \n",
       "> The area of Greenland is 2,166,000 km²\n",
       "\n",
       "(We'll talk about how we would get the commas later when we talk about string formatting :))\n"
      ],
      "text/plain": [
       "Solution: As you've seen, `ndigits=-1` rounds to the nearest 10, `ndigits=-2` rounds to the nearest 100 and so on. Where might this be useful? Suppose we're dealing with large numbers:\n",
       "\n",
       "> The area of Finland is 338,424 km²  \n",
       "> The area of Greenland is 2,166,086 km²\n",
       "\n",
       "We probably don't care whether it's really 338,424, or 338,425, or 338,177. All those digits of accuracy are just distracting. We can chop them off by calling `round()` with `ndigits=-3`:\n",
       "\n",
       "> The area of Finland is 338,000 km²  \n",
       "> The area of Greenland is 2,166,000 km²\n",
       "\n",
       "(We'll talk about how we would get the commas later when we talk about string formatting :))"
      ]
     },
     "metadata": {},
     "output_type": "display_data"
    }
   ],
   "source": [
    "# Check your answer (Run this code cell to receive credit!)\n",
    "q2.solution()"
   ]
  },
  {
   "cell_type": "markdown",
   "id": "c518ae88",
   "metadata": {
    "papermill": {
     "duration": 0.01938,
     "end_time": "2022-01-05T20:11:06.532627",
     "exception": false,
     "start_time": "2022-01-05T20:11:06.513247",
     "status": "completed"
    },
    "tags": []
   },
   "source": [
    "# 3.\n",
    "\n",
    "In the previous exercise, the candy-sharing friends Alice, Bob and Carol tried to split candies evenly. For the sake of their friendship, any candies left over would be smashed. For example, if they collectively bring home 91 candies, they'll take 30 each and smash 1.\n",
    "\n",
    "Below is a simple function that will calculate the number of candies to smash for *any* number of total candies.\n",
    "\n",
    "Modify it so that it optionally takes a second argument representing the number of friends the candies are being split between. If no second argument is provided, it should assume 3 friends, as before.\n",
    "\n",
    "Update the docstring to reflect this new behaviour."
   ]
  },
  {
   "cell_type": "code",
   "execution_count": 6,
   "id": "779d1a1f",
   "metadata": {
    "execution": {
     "iopub.execute_input": "2022-01-05T20:11:06.579114Z",
     "iopub.status.busy": "2022-01-05T20:11:06.578276Z",
     "iopub.status.idle": "2022-01-05T20:11:06.584817Z",
     "shell.execute_reply": "2022-01-05T20:11:06.584289Z",
     "shell.execute_reply.started": "2022-01-05T20:10:10.046862Z"
    },
    "papermill": {
     "duration": 0.032657,
     "end_time": "2022-01-05T20:11:06.584951",
     "exception": false,
     "start_time": "2022-01-05T20:11:06.552294",
     "status": "completed"
    },
    "tags": []
   },
   "outputs": [
    {
     "data": {
      "application/javascript": [
       "parent.postMessage({\"jupyterEvent\": \"custom.exercise_interaction\", \"data\": {\"outcomeType\": 1, \"valueTowardsCompletion\": 0.16666666666666666, \"interactionType\": 1, \"questionType\": 2, \"questionId\": \"3_CandySmashingFunctionProblem\", \"learnToolsVersion\": \"0.3.4\", \"failureMessage\": \"\", \"exceptionClass\": \"\", \"trace\": \"\"}}, \"*\")"
      ],
      "text/plain": [
       "<IPython.core.display.Javascript object>"
      ]
     },
     "metadata": {},
     "output_type": "display_data"
    },
    {
     "data": {
      "text/markdown": [
       "<span style=\"color:#33cc33\">Correct</span>"
      ],
      "text/plain": [
       "Correct"
      ]
     },
     "metadata": {},
     "output_type": "display_data"
    }
   ],
   "source": [
    "def to_smash(total_candies, friends=3):\n",
    "    \"\"\"Return the number of leftover candies that must be smashed after distributing\n",
    "    the given number of candies evenly between 3 friends.\n",
    "    \n",
    "    >>> to_smash(91)\n",
    "    1\n",
    "    \"\"\"\n",
    "    return total_candies % friends\n",
    "\n",
    "# Check your answer\n",
    "q3.check()"
   ]
  },
  {
   "cell_type": "code",
   "execution_count": 7,
   "id": "d1590149",
   "metadata": {
    "execution": {
     "iopub.execute_input": "2022-01-05T20:11:06.633784Z",
     "iopub.status.busy": "2022-01-05T20:11:06.632782Z",
     "iopub.status.idle": "2022-01-05T20:11:06.639226Z",
     "shell.execute_reply": "2022-01-05T20:11:06.638501Z",
     "shell.execute_reply.started": "2022-01-05T20:10:13.340308Z"
    },
    "papermill": {
     "duration": 0.033591,
     "end_time": "2022-01-05T20:11:06.639400",
     "exception": false,
     "start_time": "2022-01-05T20:11:06.605809",
     "status": "completed"
    },
    "tags": []
   },
   "outputs": [
    {
     "data": {
      "application/javascript": [
       "parent.postMessage({\"jupyterEvent\": \"custom.exercise_interaction\", \"data\": {\"interactionType\": 2, \"questionType\": 2, \"questionId\": \"3_CandySmashingFunctionProblem\", \"learnToolsVersion\": \"0.3.4\", \"valueTowardsCompletion\": 0.0, \"failureMessage\": \"\", \"exceptionClass\": \"\", \"trace\": \"\", \"outcomeType\": 4}}, \"*\")"
      ],
      "text/plain": [
       "<IPython.core.display.Javascript object>"
      ]
     },
     "metadata": {},
     "output_type": "display_data"
    },
    {
     "data": {
      "text/markdown": [
       "<span style=\"color:#3366cc\">Hint:</span> Refer to the section of the last tutorial notebook where we talked about default arguments"
      ],
      "text/plain": [
       "Hint: Refer to the section of the last tutorial notebook where we talked about default arguments"
      ]
     },
     "metadata": {},
     "output_type": "display_data"
    }
   ],
   "source": [
    "q3.hint()"
   ]
  },
  {
   "cell_type": "code",
   "execution_count": 8,
   "id": "96118298",
   "metadata": {
    "execution": {
     "iopub.execute_input": "2022-01-05T20:11:06.690395Z",
     "iopub.status.busy": "2022-01-05T20:11:06.689604Z",
     "iopub.status.idle": "2022-01-05T20:11:06.694530Z",
     "shell.execute_reply": "2022-01-05T20:11:06.693810Z",
     "shell.execute_reply.started": "2022-01-05T20:10:15.514802Z"
    },
    "papermill": {
     "duration": 0.032373,
     "end_time": "2022-01-05T20:11:06.694710",
     "exception": false,
     "start_time": "2022-01-05T20:11:06.662337",
     "status": "completed"
    },
    "tags": []
   },
   "outputs": [
    {
     "data": {
      "application/javascript": [
       "parent.postMessage({\"jupyterEvent\": \"custom.exercise_interaction\", \"data\": {\"interactionType\": 3, \"questionType\": 2, \"questionId\": \"3_CandySmashingFunctionProblem\", \"learnToolsVersion\": \"0.3.4\", \"valueTowardsCompletion\": 0.0, \"failureMessage\": \"\", \"exceptionClass\": \"\", \"trace\": \"\", \"outcomeType\": 4}}, \"*\")"
      ],
      "text/plain": [
       "<IPython.core.display.Javascript object>"
      ]
     },
     "metadata": {},
     "output_type": "display_data"
    },
    {
     "data": {
      "text/markdown": [
       "<span style=\"color:#33cc99\">Solution:</span> \n",
       "```python\n",
       "def to_smash(total_candies, n_friends=3):\n",
       "    return total_candies % n_friends\n",
       "```"
      ],
      "text/plain": [
       "Solution: \n",
       "```python\n",
       "def to_smash(total_candies, n_friends=3):\n",
       "    return total_candies % n_friends\n",
       "```"
      ]
     },
     "metadata": {},
     "output_type": "display_data"
    }
   ],
   "source": [
    "q3.solution()"
   ]
  },
  {
   "cell_type": "markdown",
   "id": "ce169613",
   "metadata": {
    "papermill": {
     "duration": 0.022722,
     "end_time": "2022-01-05T20:11:06.740820",
     "exception": false,
     "start_time": "2022-01-05T20:11:06.718098",
     "status": "completed"
    },
    "tags": []
   },
   "source": [
    "# 4. (Optional)\n",
    "\n",
    "It may not be fun, but reading and understanding error messages will be an important part of your Python career.\n",
    "\n",
    "Each code cell below contains some commented buggy code. For each cell...\n",
    "\n",
    "1. Read the code and predict what you think will happen when it's run.\n",
    "2. Then uncomment the code and run it to see what happens. (**Tip**: In the kernel editor, you can highlight several lines and press `ctrl`+`/` to toggle commenting.)\n",
    "3. Fix the code (so that it accomplishes its intended purpose without throwing an exception)\n",
    "\n",
    "<!-- TODO: should this be autochecked? Delta is probably pretty small. -->"
   ]
  },
  {
   "cell_type": "code",
   "execution_count": 9,
   "id": "f3d4c86e",
   "metadata": {
    "execution": {
     "iopub.execute_input": "2022-01-05T20:11:06.793712Z",
     "iopub.status.busy": "2022-01-05T20:11:06.792819Z",
     "iopub.status.idle": "2022-01-05T20:11:06.796351Z",
     "shell.execute_reply": "2022-01-05T20:11:06.796837Z",
     "shell.execute_reply.started": "2022-01-05T20:10:18.484916Z"
    },
    "papermill": {
     "duration": 0.032979,
     "end_time": "2022-01-05T20:11:06.797023",
     "exception": false,
     "start_time": "2022-01-05T20:11:06.764044",
     "status": "completed"
    },
    "tags": []
   },
   "outputs": [
    {
     "name": "stdout",
     "output_type": "stream",
     "text": [
      "9.79\n"
     ]
    }
   ],
   "source": [
    "def round_to_two_places(num):\n",
    "    return round(num, 2)\n",
    "\n",
    "print(round_to_two_places(9.786))"
   ]
  },
  {
   "cell_type": "code",
   "execution_count": 10,
   "id": "bd94ae60",
   "metadata": {
    "execution": {
     "iopub.execute_input": "2022-01-05T20:11:06.849533Z",
     "iopub.status.busy": "2022-01-05T20:11:06.848697Z",
     "iopub.status.idle": "2022-01-05T20:11:06.852362Z",
     "shell.execute_reply": "2022-01-05T20:11:06.852870Z",
     "shell.execute_reply.started": "2022-01-05T20:10:21.334023Z"
    },
    "papermill": {
     "duration": 0.033078,
     "end_time": "2022-01-05T20:11:06.853037",
     "exception": false,
     "start_time": "2022-01-05T20:11:06.819959",
     "status": "completed"
    },
    "tags": []
   },
   "outputs": [
    {
     "name": "stdout",
     "output_type": "stream",
     "text": [
      "Help on built-in function round in module builtins:\n",
      "\n",
      "round(number, ndigits=None)\n",
      "    Round a number to a given precision in decimal digits.\n",
      "    \n",
      "    The return value is an integer if ndigits is omitted or None.  Otherwise\n",
      "    the return value has the same type as the number.  ndigits may be negative.\n",
      "\n"
     ]
    }
   ],
   "source": [
    "help(round)"
   ]
  },
  {
   "cell_type": "code",
   "execution_count": 11,
   "id": "8c5c0a9d",
   "metadata": {
    "execution": {
     "iopub.execute_input": "2022-01-05T20:11:06.906114Z",
     "iopub.status.busy": "2022-01-05T20:11:06.905114Z",
     "iopub.status.idle": "2022-01-05T20:11:06.907745Z",
     "shell.execute_reply": "2022-01-05T20:11:06.907114Z",
     "shell.execute_reply.started": "2022-01-05T20:10:27.984937Z"
    },
    "papermill": {
     "duration": 0.030833,
     "end_time": "2022-01-05T20:11:06.907881",
     "exception": false,
     "start_time": "2022-01-05T20:11:06.877048",
     "status": "completed"
    },
    "tags": []
   },
   "outputs": [],
   "source": [
    "x = -10\n",
    "y = 5\n",
    "# Which of the two variables above has the smallest absolute value?\n",
    "smallest_abs = min(abs(x), abs(y))"
   ]
  },
  {
   "cell_type": "code",
   "execution_count": 12,
   "id": "e4f5a86f",
   "metadata": {
    "execution": {
     "iopub.execute_input": "2022-01-05T20:11:06.958920Z",
     "iopub.status.busy": "2022-01-05T20:11:06.957979Z",
     "iopub.status.idle": "2022-01-05T20:11:06.963293Z",
     "shell.execute_reply": "2022-01-05T20:11:06.963877Z",
     "shell.execute_reply.started": "2022-01-05T20:10:30.993960Z"
    },
    "papermill": {
     "duration": 0.032517,
     "end_time": "2022-01-05T20:11:06.964044",
     "exception": false,
     "start_time": "2022-01-05T20:11:06.931527",
     "status": "completed"
    },
    "tags": []
   },
   "outputs": [
    {
     "name": "stdout",
     "output_type": "stream",
     "text": [
      "5\n"
     ]
    }
   ],
   "source": [
    "def f(x):\n",
    "    y = abs(x)\n",
    "    return y\n",
    "\n",
    "print(f(5))"
   ]
  },
  {
   "cell_type": "markdown",
   "id": "422a4efe",
   "metadata": {
    "papermill": {
     "duration": 0.025275,
     "end_time": "2022-01-05T20:11:07.014749",
     "exception": false,
     "start_time": "2022-01-05T20:11:06.989474",
     "status": "completed"
    },
    "tags": []
   },
   "source": [
    "# Keep Going\n",
    "\n",
    "Nice job with the code. Next up, you'll learn about *conditionals*, which you'll need to **[write interesting programs](https://www.kaggle.com/colinmorris/booleans-and-conditionals)**. "
   ]
  },
  {
   "cell_type": "markdown",
   "id": "42b8fcf3",
   "metadata": {
    "papermill": {
     "duration": 0.024078,
     "end_time": "2022-01-05T20:11:07.063465",
     "exception": false,
     "start_time": "2022-01-05T20:11:07.039387",
     "status": "completed"
    },
    "tags": []
   },
   "source": [
    "---\n",
    "\n",
    "\n",
    "\n",
    "\n",
    "*Have questions or comments? Visit the [course discussion forum](https://www.kaggle.com/learn/python/discussion) to chat with other learners.*"
   ]
  }
 ],
 "metadata": {
  "kernelspec": {
   "display_name": "Python 3",
   "language": "python",
   "name": "python3"
  },
  "language_info": {
   "codemirror_mode": {
    "name": "ipython",
    "version": 3
   },
   "file_extension": ".py",
   "mimetype": "text/x-python",
   "name": "python",
   "nbconvert_exporter": "python",
   "pygments_lexer": "ipython3",
   "version": "3.7.12"
  },
  "papermill": {
   "default_parameters": {},
   "duration": 12.675039,
   "end_time": "2022-01-05T20:11:07.799385",
   "environment_variables": {},
   "exception": null,
   "input_path": "__notebook__.ipynb",
   "output_path": "__notebook__.ipynb",
   "parameters": {},
   "start_time": "2022-01-05T20:10:55.124346",
   "version": "2.3.3"
  }
 },
 "nbformat": 4,
 "nbformat_minor": 5
}
