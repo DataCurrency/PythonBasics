{
 "cells": [
  {
   "cell_type": "markdown",
   "id": "113b5c38",
   "metadata": {
    "papermill": {
     "duration": 0.016068,
     "end_time": "2022-01-10T03:46:54.196640",
     "exception": false,
     "start_time": "2022-01-10T03:46:54.180572",
     "status": "completed"
    },
    "tags": []
   },
   "source": [
    "**This notebook is an exercise in the [Python](https://www.kaggle.com/learn/python) course.  You can reference the tutorial at [this link](https://www.kaggle.com/colinmorris/lists).**\n",
    "\n",
    "---\n"
   ]
  },
  {
   "cell_type": "markdown",
   "id": "80aebc14",
   "metadata": {
    "papermill": {
     "duration": 0.014684,
     "end_time": "2022-01-10T03:46:54.227057",
     "exception": false,
     "start_time": "2022-01-10T03:46:54.212373",
     "status": "completed"
    },
    "tags": []
   },
   "source": [
    "Things get more interesting with lists. You'll apply your new knowledge to solve the questions below. Remember to run the following cell first."
   ]
  },
  {
   "cell_type": "code",
   "execution_count": 1,
   "id": "1bec66a9",
   "metadata": {
    "execution": {
     "iopub.execute_input": "2022-01-10T03:46:54.263835Z",
     "iopub.status.busy": "2022-01-10T03:46:54.262007Z",
     "iopub.status.idle": "2022-01-10T03:46:54.318217Z",
     "shell.execute_reply": "2022-01-10T03:46:54.318861Z",
     "shell.execute_reply.started": "2022-01-10T03:04:03.372601Z"
    },
    "papermill": {
     "duration": 0.076794,
     "end_time": "2022-01-10T03:46:54.319228",
     "exception": false,
     "start_time": "2022-01-10T03:46:54.242434",
     "status": "completed"
    },
    "tags": []
   },
   "outputs": [
    {
     "name": "stdout",
     "output_type": "stream",
     "text": [
      "Setup complete.\n"
     ]
    }
   ],
   "source": [
    "from learntools.core import binder; binder.bind(globals())\n",
    "from learntools.python.ex4 import *\n",
    "print('Setup complete.')"
   ]
  },
  {
   "cell_type": "markdown",
   "id": "b44006e2",
   "metadata": {
    "papermill": {
     "duration": 0.014643,
     "end_time": "2022-01-10T03:46:54.349421",
     "exception": false,
     "start_time": "2022-01-10T03:46:54.334778",
     "status": "completed"
    },
    "tags": []
   },
   "source": [
    "# 1.\n",
    "\n",
    "Complete the function below according to its docstring."
   ]
  },
  {
   "cell_type": "code",
   "execution_count": 2,
   "id": "8e558bd6",
   "metadata": {
    "execution": {
     "iopub.execute_input": "2022-01-10T03:46:54.383038Z",
     "iopub.status.busy": "2022-01-10T03:46:54.382318Z",
     "iopub.status.idle": "2022-01-10T03:46:54.391789Z",
     "shell.execute_reply": "2022-01-10T03:46:54.392285Z",
     "shell.execute_reply.started": "2022-01-10T03:06:53.403460Z"
    },
    "papermill": {
     "duration": 0.028055,
     "end_time": "2022-01-10T03:46:54.392480",
     "exception": false,
     "start_time": "2022-01-10T03:46:54.364425",
     "status": "completed"
    },
    "tags": []
   },
   "outputs": [
    {
     "data": {
      "application/javascript": [
       "parent.postMessage({\"jupyterEvent\": \"custom.exercise_interaction\", \"data\": {\"outcomeType\": 1, \"valueTowardsCompletion\": 0.2, \"interactionType\": 1, \"questionType\": 2, \"questionId\": \"1_SelectSecondItem\", \"learnToolsVersion\": \"0.3.4\", \"failureMessage\": \"\", \"exceptionClass\": \"\", \"trace\": \"\"}}, \"*\")"
      ],
      "text/plain": [
       "<IPython.core.display.Javascript object>"
      ]
     },
     "metadata": {},
     "output_type": "display_data"
    },
    {
     "data": {
      "text/markdown": [
       "<span style=\"color:#33cc33\">Correct</span>"
      ],
      "text/plain": [
       "Correct"
      ]
     },
     "metadata": {},
     "output_type": "display_data"
    }
   ],
   "source": [
    "def select_second(L):\n",
    "    \"\"\"Return the second element of the given list. If the list has no second\n",
    "    element, return None.\n",
    "    \"\"\"\n",
    "    if len(L) >= 2:\n",
    "        return L[1]\n",
    "    else:\n",
    "        return None\n",
    "\n",
    "# Check your answer\n",
    "q1.check()"
   ]
  },
  {
   "cell_type": "code",
   "execution_count": 3,
   "id": "bcb32b67",
   "metadata": {
    "execution": {
     "iopub.execute_input": "2022-01-10T03:46:54.428318Z",
     "iopub.status.busy": "2022-01-10T03:46:54.427671Z",
     "iopub.status.idle": "2022-01-10T03:46:54.437757Z",
     "shell.execute_reply": "2022-01-10T03:46:54.438282Z",
     "shell.execute_reply.started": "2022-01-10T03:05:18.894454Z"
    },
    "papermill": {
     "duration": 0.030108,
     "end_time": "2022-01-10T03:46:54.438491",
     "exception": false,
     "start_time": "2022-01-10T03:46:54.408383",
     "status": "completed"
    },
    "tags": []
   },
   "outputs": [
    {
     "data": {
      "application/javascript": [
       "parent.postMessage({\"jupyterEvent\": \"custom.exercise_interaction\", \"data\": {\"interactionType\": 2, \"questionType\": 2, \"questionId\": \"1_SelectSecondItem\", \"learnToolsVersion\": \"0.3.4\", \"valueTowardsCompletion\": 0.0, \"failureMessage\": \"\", \"exceptionClass\": \"\", \"trace\": \"\", \"outcomeType\": 4}}, \"*\")"
      ],
      "text/plain": [
       "<IPython.core.display.Javascript object>"
      ]
     },
     "metadata": {},
     "output_type": "display_data"
    },
    {
     "data": {
      "text/markdown": [
       "<span style=\"color:#3366cc\">Hint:</span> Python starts counting at 0. So the second item isn't indexed with a 2"
      ],
      "text/plain": [
       "Hint: Python starts counting at 0. So the second item isn't indexed with a 2"
      ]
     },
     "metadata": {},
     "output_type": "display_data"
    },
    {
     "data": {
      "application/javascript": [
       "parent.postMessage({\"jupyterEvent\": \"custom.exercise_interaction\", \"data\": {\"interactionType\": 3, \"questionType\": 2, \"questionId\": \"1_SelectSecondItem\", \"learnToolsVersion\": \"0.3.4\", \"valueTowardsCompletion\": 0.0, \"failureMessage\": \"\", \"exceptionClass\": \"\", \"trace\": \"\", \"outcomeType\": 4}}, \"*\")"
      ],
      "text/plain": [
       "<IPython.core.display.Javascript object>"
      ]
     },
     "metadata": {},
     "output_type": "display_data"
    },
    {
     "data": {
      "text/markdown": [
       "<span style=\"color:#33cc99\">Solution:</span> \n",
       "```python\n",
       "def select_second(L):\n",
       "    if len(L) < 2:\n",
       "        return None\n",
       "    return L[1]\n",
       "```"
      ],
      "text/plain": [
       "Solution: \n",
       "```python\n",
       "def select_second(L):\n",
       "    if len(L) < 2:\n",
       "        return None\n",
       "    return L[1]\n",
       "```"
      ]
     },
     "metadata": {},
     "output_type": "display_data"
    }
   ],
   "source": [
    "q1.hint()\n",
    "q1.solution()"
   ]
  },
  {
   "cell_type": "markdown",
   "id": "093c47c8",
   "metadata": {
    "papermill": {
     "duration": 0.017219,
     "end_time": "2022-01-10T03:46:54.473919",
     "exception": false,
     "start_time": "2022-01-10T03:46:54.456700",
     "status": "completed"
    },
    "tags": []
   },
   "source": [
    "# 2.\n",
    "\n",
    "You are analyzing sports teams.  Members of each team are stored in a list. The Coach is the first name in the list, the captain is the second name in the list, and other players are listed after that. \n",
    "These lists are stored in another list, which starts with the best team and proceeds through the list to the worst team last.  Complete the function below to select the **captain** of the worst team."
   ]
  },
  {
   "cell_type": "code",
   "execution_count": 4,
   "id": "b0772f14",
   "metadata": {
    "execution": {
     "iopub.execute_input": "2022-01-10T03:46:54.513582Z",
     "iopub.status.busy": "2022-01-10T03:46:54.512584Z",
     "iopub.status.idle": "2022-01-10T03:46:54.521471Z",
     "shell.execute_reply": "2022-01-10T03:46:54.522121Z",
     "shell.execute_reply.started": "2022-01-10T03:10:29.930448Z"
    },
    "papermill": {
     "duration": 0.030784,
     "end_time": "2022-01-10T03:46:54.522304",
     "exception": false,
     "start_time": "2022-01-10T03:46:54.491520",
     "status": "completed"
    },
    "tags": []
   },
   "outputs": [
    {
     "data": {
      "application/javascript": [
       "parent.postMessage({\"jupyterEvent\": \"custom.exercise_interaction\", \"data\": {\"outcomeType\": 1, \"valueTowardsCompletion\": 0.2, \"interactionType\": 1, \"questionType\": 2, \"questionId\": \"2_LosingTeamCaptain\", \"learnToolsVersion\": \"0.3.4\", \"failureMessage\": \"\", \"exceptionClass\": \"\", \"trace\": \"\"}}, \"*\")"
      ],
      "text/plain": [
       "<IPython.core.display.Javascript object>"
      ]
     },
     "metadata": {},
     "output_type": "display_data"
    },
    {
     "data": {
      "text/markdown": [
       "<span style=\"color:#33cc33\">Correct</span>"
      ],
      "text/plain": [
       "Correct"
      ]
     },
     "metadata": {},
     "output_type": "display_data"
    }
   ],
   "source": [
    "def losing_team_captain(teams):\n",
    "    \"\"\"Given a list of teams, where each team is a list of names, return the 2nd player (captain)\n",
    "    from the last listed team\n",
    "    \"\"\"\n",
    "    return teams[-1][1]\n",
    "    pass\n",
    "\n",
    "# Check your answer\n",
    "q2.check()"
   ]
  },
  {
   "cell_type": "code",
   "execution_count": 5,
   "id": "1eee39cd",
   "metadata": {
    "execution": {
     "iopub.execute_input": "2022-01-10T03:46:54.566868Z",
     "iopub.status.busy": "2022-01-10T03:46:54.566148Z",
     "iopub.status.idle": "2022-01-10T03:46:54.573504Z",
     "shell.execute_reply": "2022-01-10T03:46:54.574083Z",
     "shell.execute_reply.started": "2022-01-10T03:10:53.070892Z"
    },
    "papermill": {
     "duration": 0.033295,
     "end_time": "2022-01-10T03:46:54.574264",
     "exception": false,
     "start_time": "2022-01-10T03:46:54.540969",
     "status": "completed"
    },
    "tags": []
   },
   "outputs": [
    {
     "data": {
      "application/javascript": [
       "parent.postMessage({\"jupyterEvent\": \"custom.exercise_interaction\", \"data\": {\"interactionType\": 2, \"questionType\": 2, \"questionId\": \"2_LosingTeamCaptain\", \"learnToolsVersion\": \"0.3.4\", \"valueTowardsCompletion\": 0.0, \"failureMessage\": \"\", \"exceptionClass\": \"\", \"trace\": \"\", \"outcomeType\": 4}}, \"*\")"
      ],
      "text/plain": [
       "<IPython.core.display.Javascript object>"
      ]
     },
     "metadata": {},
     "output_type": "display_data"
    },
    {
     "data": {
      "text/markdown": [
       "<span style=\"color:#3366cc\">Hint:</span> The last item in a list `L` can be selected with `L[-1]`. The first item in the first sublist would be selected as `L[0][0]`"
      ],
      "text/plain": [
       "Hint: The last item in a list `L` can be selected with `L[-1]`. The first item in the first sublist would be selected as `L[0][0]`"
      ]
     },
     "metadata": {},
     "output_type": "display_data"
    },
    {
     "data": {
      "application/javascript": [
       "parent.postMessage({\"jupyterEvent\": \"custom.exercise_interaction\", \"data\": {\"interactionType\": 3, \"questionType\": 2, \"questionId\": \"2_LosingTeamCaptain\", \"learnToolsVersion\": \"0.3.4\", \"valueTowardsCompletion\": 0.0, \"failureMessage\": \"\", \"exceptionClass\": \"\", \"trace\": \"\", \"outcomeType\": 4}}, \"*\")"
      ],
      "text/plain": [
       "<IPython.core.display.Javascript object>"
      ]
     },
     "metadata": {},
     "output_type": "display_data"
    },
    {
     "data": {
      "text/markdown": [
       "<span style=\"color:#33cc99\">Solution:</span> \n",
       "```python\n",
       "def losing_team_captain(teams):\n",
       "    return teams[-1][1]\n",
       "```"
      ],
      "text/plain": [
       "Solution: \n",
       "```python\n",
       "def losing_team_captain(teams):\n",
       "    return teams[-1][1]\n",
       "```"
      ]
     },
     "metadata": {},
     "output_type": "display_data"
    }
   ],
   "source": [
    "q2.hint()\n",
    "q2.solution()"
   ]
  },
  {
   "cell_type": "markdown",
   "id": "21ac2716",
   "metadata": {
    "papermill": {
     "duration": 0.020019,
     "end_time": "2022-01-10T03:46:54.614851",
     "exception": false,
     "start_time": "2022-01-10T03:46:54.594832",
     "status": "completed"
    },
    "tags": []
   },
   "source": [
    "# 3.\n",
    "\n",
    "The next iteration of Mario Kart will feature an extra-infuriating new item, the *Purple Shell*. When used, it warps the last place racer into first place and the first place racer into last place. Complete the function below to implement the Purple Shell's effect."
   ]
  },
  {
   "cell_type": "code",
   "execution_count": 6,
   "id": "54c16e9c",
   "metadata": {
    "execution": {
     "iopub.execute_input": "2022-01-10T03:46:54.659340Z",
     "iopub.status.busy": "2022-01-10T03:46:54.658683Z",
     "iopub.status.idle": "2022-01-10T03:46:54.666177Z",
     "shell.execute_reply": "2022-01-10T03:46:54.666698Z",
     "shell.execute_reply.started": "2022-01-10T03:14:53.943409Z"
    },
    "papermill": {
     "duration": 0.031695,
     "end_time": "2022-01-10T03:46:54.666867",
     "exception": false,
     "start_time": "2022-01-10T03:46:54.635172",
     "status": "completed"
    },
    "tags": []
   },
   "outputs": [
    {
     "data": {
      "application/javascript": [
       "parent.postMessage({\"jupyterEvent\": \"custom.exercise_interaction\", \"data\": {\"outcomeType\": 1, \"valueTowardsCompletion\": 0.2, \"interactionType\": 1, \"questionType\": 2, \"questionId\": \"3_PurpleShell\", \"learnToolsVersion\": \"0.3.4\", \"failureMessage\": \"\", \"exceptionClass\": \"\", \"trace\": \"\"}}, \"*\")"
      ],
      "text/plain": [
       "<IPython.core.display.Javascript object>"
      ]
     },
     "metadata": {},
     "output_type": "display_data"
    },
    {
     "data": {
      "text/markdown": [
       "<span style=\"color:#33cc33\">Correct</span>"
      ],
      "text/plain": [
       "Correct"
      ]
     },
     "metadata": {},
     "output_type": "display_data"
    }
   ],
   "source": [
    "def purple_shell(racers):\n",
    "    \"\"\"Given a list of racers, set the first place racer (at the front of the list) to last\n",
    "    place and vice versa.\n",
    "    \n",
    "    >>> r = [\"Mario\", \"Bowser\", \"Luigi\"]\n",
    "    >>> purple_shell(r)\n",
    "    >>> r\n",
    "    [\"Luigi\", \"Bowser\", \"Mario\"]\n",
    "    \"\"\"\n",
    "    racers[0], racers[-1] = racers[-1], racers[0]\n",
    "\n",
    "# Check your answer\n",
    "q3.check()"
   ]
  },
  {
   "cell_type": "code",
   "execution_count": 7,
   "id": "1590b867",
   "metadata": {
    "execution": {
     "iopub.execute_input": "2022-01-10T03:46:54.716844Z",
     "iopub.status.busy": "2022-01-10T03:46:54.716135Z",
     "iopub.status.idle": "2022-01-10T03:46:54.726011Z",
     "shell.execute_reply": "2022-01-10T03:46:54.726537Z",
     "shell.execute_reply.started": "2022-01-10T03:14:05.879925Z"
    },
    "papermill": {
     "duration": 0.037784,
     "end_time": "2022-01-10T03:46:54.726738",
     "exception": false,
     "start_time": "2022-01-10T03:46:54.688954",
     "status": "completed"
    },
    "tags": []
   },
   "outputs": [
    {
     "data": {
      "application/javascript": [
       "parent.postMessage({\"jupyterEvent\": \"custom.exercise_interaction\", \"data\": {\"interactionType\": 2, \"questionType\": 2, \"questionId\": \"3_PurpleShell\", \"learnToolsVersion\": \"0.3.4\", \"valueTowardsCompletion\": 0.0, \"failureMessage\": \"\", \"exceptionClass\": \"\", \"trace\": \"\", \"outcomeType\": 4}}, \"*\")"
      ],
      "text/plain": [
       "<IPython.core.display.Javascript object>"
      ]
     },
     "metadata": {},
     "output_type": "display_data"
    },
    {
     "data": {
      "text/markdown": [
       "<span style=\"color:#3366cc\">Hint:</span> Your function should change the list it receives, but not return anything\n",
       "\n",
       "To swap the list elements, think back to the code you used in the very first exercise to swap two variables."
      ],
      "text/plain": [
       "Hint: Your function should change the list it receives, but not return anything\n",
       "\n",
       "To swap the list elements, think back to the code you used in the very first exercise to swap two variables."
      ]
     },
     "metadata": {},
     "output_type": "display_data"
    },
    {
     "data": {
      "application/javascript": [
       "parent.postMessage({\"jupyterEvent\": \"custom.exercise_interaction\", \"data\": {\"interactionType\": 3, \"questionType\": 2, \"questionId\": \"3_PurpleShell\", \"learnToolsVersion\": \"0.3.4\", \"valueTowardsCompletion\": 0.0, \"failureMessage\": \"\", \"exceptionClass\": \"\", \"trace\": \"\", \"outcomeType\": 4}}, \"*\")"
      ],
      "text/plain": [
       "<IPython.core.display.Javascript object>"
      ]
     },
     "metadata": {},
     "output_type": "display_data"
    },
    {
     "data": {
      "text/markdown": [
       "<span style=\"color:#33cc99\">Solution:</span> \n",
       "```python\n",
       "def purple_shell(racers):\n",
       "    # One slick way to do the swap is x[0], x[-1] = x[-1], x[0].\n",
       "    temp = racers[0]\n",
       "    racers[0] = racers[-1]\n",
       "    racers[-1] = temp\n",
       "```"
      ],
      "text/plain": [
       "Solution: \n",
       "```python\n",
       "def purple_shell(racers):\n",
       "    # One slick way to do the swap is x[0], x[-1] = x[-1], x[0].\n",
       "    temp = racers[0]\n",
       "    racers[0] = racers[-1]\n",
       "    racers[-1] = temp\n",
       "```"
      ]
     },
     "metadata": {},
     "output_type": "display_data"
    }
   ],
   "source": [
    "q3.hint()\n",
    "q3.solution()"
   ]
  },
  {
   "cell_type": "markdown",
   "id": "b8b5cf18",
   "metadata": {
    "papermill": {
     "duration": 0.0233,
     "end_time": "2022-01-10T03:46:54.773417",
     "exception": false,
     "start_time": "2022-01-10T03:46:54.750117",
     "status": "completed"
    },
    "tags": []
   },
   "source": [
    "# 4.\n",
    "\n",
    "What are the lengths of the following lists? Fill in the variable `lengths` with your predictions. (Try to make a prediction for each list *without* just calling `len()` on it.)"
   ]
  },
  {
   "cell_type": "code",
   "execution_count": 8,
   "id": "fb135832",
   "metadata": {
    "execution": {
     "iopub.execute_input": "2022-01-10T03:46:54.823642Z",
     "iopub.status.busy": "2022-01-10T03:46:54.822960Z",
     "iopub.status.idle": "2022-01-10T03:46:54.832404Z",
     "shell.execute_reply": "2022-01-10T03:46:54.832949Z",
     "shell.execute_reply.started": "2022-01-10T03:27:06.503239Z"
    },
    "papermill": {
     "duration": 0.036419,
     "end_time": "2022-01-10T03:46:54.833124",
     "exception": false,
     "start_time": "2022-01-10T03:46:54.796705",
     "status": "completed"
    },
    "tags": []
   },
   "outputs": [
    {
     "data": {
      "application/javascript": [
       "parent.postMessage({\"jupyterEvent\": \"custom.exercise_interaction\", \"data\": {\"outcomeType\": 1, \"valueTowardsCompletion\": 0.2, \"interactionType\": 1, \"questionType\": 1, \"questionId\": \"4_UnderstandLen\", \"learnToolsVersion\": \"0.3.4\", \"failureMessage\": \"\", \"exceptionClass\": \"\", \"trace\": \"\"}}, \"*\")"
      ],
      "text/plain": [
       "<IPython.core.display.Javascript object>"
      ]
     },
     "metadata": {},
     "output_type": "display_data"
    },
    {
     "data": {
      "text/markdown": [
       "<span style=\"color:#33cc33\">Correct:</span> \n",
       "\n",
       "\n",
       "- a: There are three items in this list. Nothing tricky yet.\n",
       "- b: The list `[2, 3]` counts as a single item. It has one item before it. So we have 2 items in the list\n",
       "- c: The empty list has 0 items\n",
       "- d: The expression is the same as the list `[2, 3]`, which has length 2."
      ],
      "text/plain": [
       "Correct: \n",
       "\n",
       "\n",
       "- a: There are three items in this list. Nothing tricky yet.\n",
       "- b: The list `[2, 3]` counts as a single item. It has one item before it. So we have 2 items in the list\n",
       "- c: The empty list has 0 items\n",
       "- d: The expression is the same as the list `[2, 3]`, which has length 2."
      ]
     },
     "metadata": {},
     "output_type": "display_data"
    }
   ],
   "source": [
    "a = [1, 2, 3]\n",
    "b = [1, [2, 3]]\n",
    "c = []\n",
    "d = [1, 2, 3][1:]\n",
    "\n",
    "# Put your predictions in the list below. Lengths should contain 4 numbers, the\n",
    "# first being the length of a, the second being the length of b and so on.\n",
    "lengths = [3, 2, 0, 2]\n",
    "\n",
    "# Check your answer\n",
    "q4.check()"
   ]
  },
  {
   "cell_type": "code",
   "execution_count": 9,
   "id": "89b76fa9",
   "metadata": {
    "execution": {
     "iopub.execute_input": "2022-01-10T03:46:54.886534Z",
     "iopub.status.busy": "2022-01-10T03:46:54.885627Z",
     "iopub.status.idle": "2022-01-10T03:46:54.892788Z",
     "shell.execute_reply": "2022-01-10T03:46:54.893239Z",
     "shell.execute_reply.started": "2022-01-10T03:22:46.763825Z"
    },
    "papermill": {
     "duration": 0.035499,
     "end_time": "2022-01-10T03:46:54.893406",
     "exception": false,
     "start_time": "2022-01-10T03:46:54.857907",
     "status": "completed"
    },
    "tags": []
   },
   "outputs": [
    {
     "data": {
      "application/javascript": [
       "parent.postMessage({\"jupyterEvent\": \"custom.exercise_interaction\", \"data\": {\"interactionType\": 3, \"questionType\": 1, \"questionId\": \"4_UnderstandLen\", \"learnToolsVersion\": \"0.3.4\", \"valueTowardsCompletion\": 0.0, \"failureMessage\": \"\", \"exceptionClass\": \"\", \"trace\": \"\", \"outcomeType\": 4}}, \"*\")"
      ],
      "text/plain": [
       "<IPython.core.display.Javascript object>"
      ]
     },
     "metadata": {},
     "output_type": "display_data"
    },
    {
     "data": {
      "text/markdown": [
       "<span style=\"color:#33cc99\">Solution:</span> \n",
       "- a: There are three items in this list. Nothing tricky yet.\n",
       "- b: The list `[2, 3]` counts as a single item. It has one item before it. So we have 2 items in the list\n",
       "- c: The empty list has 0 items\n",
       "- d: The expression is the same as the list `[2, 3]`, which has length 2."
      ],
      "text/plain": [
       "Solution: \n",
       "- a: There are three items in this list. Nothing tricky yet.\n",
       "- b: The list `[2, 3]` counts as a single item. It has one item before it. So we have 2 items in the list\n",
       "- c: The empty list has 0 items\n",
       "- d: The expression is the same as the list `[2, 3]`, which has length 2."
      ]
     },
     "metadata": {},
     "output_type": "display_data"
    }
   ],
   "source": [
    "# line below provides some explanation\n",
    "q4.solution()"
   ]
  },
  {
   "cell_type": "markdown",
   "id": "eae85092",
   "metadata": {
    "papermill": {
     "duration": 0.024926,
     "end_time": "2022-01-10T03:46:54.944654",
     "exception": false,
     "start_time": "2022-01-10T03:46:54.919728",
     "status": "completed"
    },
    "tags": []
   },
   "source": [
    "# 5. <span title=\"A bit spicy\" style=\"color: darkgreen \">🌶️</span>\n",
    "\n",
    "We're using lists to record people who attended our party and what order they arrived in. For example, the following list represents a party with 7 guests, in which Adela showed up first and Ford was the last to arrive:\n",
    "\n",
    "    party_attendees = ['Adela', 'Fleda', 'Owen', 'May', 'Mona', 'Gilbert', 'Ford']\n",
    "\n",
    "A guest is considered 'fashionably late' if they arrived after at least half of the party's guests. However, they must not be the very last guest (that's taking it too far). In the above example, Mona and Gilbert are the only guests who were fashionably late.\n",
    "\n",
    "Complete the function below which takes a list of party attendees as well as a person, and tells us whether that person is fashionably late."
   ]
  },
  {
   "cell_type": "code",
   "execution_count": 10,
   "id": "459c09f7",
   "metadata": {
    "execution": {
     "iopub.execute_input": "2022-01-10T03:46:55.003846Z",
     "iopub.status.busy": "2022-01-10T03:46:55.003119Z",
     "iopub.status.idle": "2022-01-10T03:46:55.007031Z",
     "shell.execute_reply": "2022-01-10T03:46:55.007535Z",
     "shell.execute_reply.started": "2022-01-10T03:45:30.466035Z"
    },
    "papermill": {
     "duration": 0.037683,
     "end_time": "2022-01-10T03:46:55.007743",
     "exception": false,
     "start_time": "2022-01-10T03:46:54.970060",
     "status": "completed"
    },
    "tags": []
   },
   "outputs": [
    {
     "data": {
      "application/javascript": [
       "parent.postMessage({\"jupyterEvent\": \"custom.exercise_interaction\", \"data\": {\"outcomeType\": 1, \"valueTowardsCompletion\": 0.2, \"interactionType\": 1, \"questionType\": 2, \"questionId\": \"5_FashionablyLate\", \"learnToolsVersion\": \"0.3.4\", \"failureMessage\": \"\", \"exceptionClass\": \"\", \"trace\": \"\"}}, \"*\")"
      ],
      "text/plain": [
       "<IPython.core.display.Javascript object>"
      ]
     },
     "metadata": {},
     "output_type": "display_data"
    },
    {
     "data": {
      "text/markdown": [
       "<span style=\"color:#33cc33\">Correct</span>"
      ],
      "text/plain": [
       "Correct"
      ]
     },
     "metadata": {},
     "output_type": "display_data"
    }
   ],
   "source": [
    "def fashionably_late(arrivals, name):\n",
    "    \"\"\"Given an ordered list of arrivals to the party and a name, return whether the guest with that\n",
    "    name was fashionably late.\n",
    "    \"\"\"\n",
    "    arriving_order = arrivals.index(name)\n",
    "    late = arriving_order >= (len(arrivals) / 2) and arriving_order != len(arrivals) - 1\n",
    "    return late\n",
    "\n",
    "# Check your answer\n",
    "q5.check()"
   ]
  },
  {
   "cell_type": "code",
   "execution_count": 11,
   "id": "ba465895",
   "metadata": {
    "execution": {
     "iopub.execute_input": "2022-01-10T03:46:55.065718Z",
     "iopub.status.busy": "2022-01-10T03:46:55.065073Z",
     "iopub.status.idle": "2022-01-10T03:46:55.076217Z",
     "shell.execute_reply": "2022-01-10T03:46:55.075653Z",
     "shell.execute_reply.started": "2022-01-10T03:34:08.830745Z"
    },
    "papermill": {
     "duration": 0.041649,
     "end_time": "2022-01-10T03:46:55.076366",
     "exception": false,
     "start_time": "2022-01-10T03:46:55.034717",
     "status": "completed"
    },
    "tags": []
   },
   "outputs": [
    {
     "data": {
      "application/javascript": [
       "parent.postMessage({\"jupyterEvent\": \"custom.exercise_interaction\", \"data\": {\"interactionType\": 2, \"questionType\": 2, \"questionId\": \"5_FashionablyLate\", \"learnToolsVersion\": \"0.3.4\", \"valueTowardsCompletion\": 0.0, \"failureMessage\": \"\", \"exceptionClass\": \"\", \"trace\": \"\", \"outcomeType\": 4}}, \"*\")"
      ],
      "text/plain": [
       "<IPython.core.display.Javascript object>"
      ]
     },
     "metadata": {},
     "output_type": "display_data"
    },
    {
     "data": {
      "text/markdown": [
       "<span style=\"color:#3366cc\">Hint:</span> Use the index method to find when the person arrived. Check whether that is a fashionably late spot given the list length (`len`). Think about 0-indexing"
      ],
      "text/plain": [
       "Hint: Use the index method to find when the person arrived. Check whether that is a fashionably late spot given the list length (`len`). Think about 0-indexing"
      ]
     },
     "metadata": {},
     "output_type": "display_data"
    },
    {
     "data": {
      "application/javascript": [
       "parent.postMessage({\"jupyterEvent\": \"custom.exercise_interaction\", \"data\": {\"interactionType\": 3, \"questionType\": 2, \"questionId\": \"5_FashionablyLate\", \"learnToolsVersion\": \"0.3.4\", \"valueTowardsCompletion\": 0.0, \"failureMessage\": \"\", \"exceptionClass\": \"\", \"trace\": \"\", \"outcomeType\": 4}}, \"*\")"
      ],
      "text/plain": [
       "<IPython.core.display.Javascript object>"
      ]
     },
     "metadata": {},
     "output_type": "display_data"
    },
    {
     "data": {
      "text/markdown": [
       "<span style=\"color:#33cc99\">Solution:</span> \n",
       "```python\n",
       "def fashionably_late(arrivals, name):\n",
       "    order = arrivals.index(name)\n",
       "    return order >= len(arrivals) / 2 and order != len(arrivals) - 1\n",
       "```"
      ],
      "text/plain": [
       "Solution: \n",
       "```python\n",
       "def fashionably_late(arrivals, name):\n",
       "    order = arrivals.index(name)\n",
       "    return order >= len(arrivals) / 2 and order != len(arrivals) - 1\n",
       "```"
      ]
     },
     "metadata": {},
     "output_type": "display_data"
    }
   ],
   "source": [
    "q5.hint()\n",
    "q5.solution()"
   ]
  },
  {
   "cell_type": "markdown",
   "id": "7f51aa02",
   "metadata": {
    "papermill": {
     "duration": 0.028421,
     "end_time": "2022-01-10T03:46:55.133483",
     "exception": false,
     "start_time": "2022-01-10T03:46:55.105062",
     "status": "completed"
    },
    "tags": []
   },
   "source": [
    "# Keep Going\n",
    "\n",
    "That's it for lists and tuples! Now you have the baseline knowledge to **[learn about loops](https://www.kaggle.com/colinmorris/loops-and-list-comprehensions)**, which is where lists and tuples get really interesting. "
   ]
  },
  {
   "cell_type": "markdown",
   "id": "11783c58",
   "metadata": {
    "papermill": {
     "duration": 0.028443,
     "end_time": "2022-01-10T03:46:55.190857",
     "exception": false,
     "start_time": "2022-01-10T03:46:55.162414",
     "status": "completed"
    },
    "tags": []
   },
   "source": [
    "---\n",
    "\n",
    "\n",
    "\n",
    "\n",
    "*Have questions or comments? Visit the [course discussion forum](https://www.kaggle.com/learn/python/discussion) to chat with other learners.*"
   ]
  }
 ],
 "metadata": {
  "kernelspec": {
   "display_name": "Python 3",
   "language": "python",
   "name": "python3"
  },
  "language_info": {
   "codemirror_mode": {
    "name": "ipython",
    "version": 3
   },
   "file_extension": ".py",
   "mimetype": "text/x-python",
   "name": "python",
   "nbconvert_exporter": "python",
   "pygments_lexer": "ipython3",
   "version": "3.7.12"
  },
  "papermill": {
   "default_parameters": {},
   "duration": 12.462274,
   "end_time": "2022-01-10T03:46:55.931666",
   "environment_variables": {},
   "exception": null,
   "input_path": "__notebook__.ipynb",
   "output_path": "__notebook__.ipynb",
   "parameters": {},
   "start_time": "2022-01-10T03:46:43.469392",
   "version": "2.3.3"
  }
 },
 "nbformat": 4,
 "nbformat_minor": 5
}
