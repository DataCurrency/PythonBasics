{
 "cells": [
  {
   "cell_type": "markdown",
   "id": "eaee9464",
   "metadata": {
    "papermill": {
     "duration": 0.023052,
     "end_time": "2022-01-05T19:52:49.105462",
     "exception": false,
     "start_time": "2022-01-05T19:52:49.082410",
     "status": "completed"
    },
    "tags": []
   },
   "source": [
    "**This notebook is an exercise in the [Python](https://www.kaggle.com/learn/python) course.  You can reference the tutorial at [this link](https://www.kaggle.com/colinmorris/hello-python).**\n",
    "\n",
    "---\n"
   ]
  },
  {
   "cell_type": "markdown",
   "id": "d3e95286",
   "metadata": {
    "papermill": {
     "duration": 0.021061,
     "end_time": "2022-01-05T19:52:49.148165",
     "exception": false,
     "start_time": "2022-01-05T19:52:49.127104",
     "status": "completed"
    },
    "tags": []
   },
   "source": [
    "Welcome to your first set of Python coding problems.  If this is your first time using Kaggle Notebooks, welcome! \n",
    "\n",
    "Notebooks are composed of blocks (called \"cells\") of text and code. Each of these is editable, though you'll mainly be editing the code cells to answer some questions.\n",
    "\n",
    "To get started, try running the code cell below (by pressing the ► button, or clicking on the cell and pressing ctrl+enter on your keyboard)."
   ]
  },
  {
   "cell_type": "code",
   "execution_count": 1,
   "id": "bb8c29d8",
   "metadata": {
    "execution": {
     "iopub.execute_input": "2022-01-05T19:52:49.197718Z",
     "iopub.status.busy": "2022-01-05T19:52:49.195888Z",
     "iopub.status.idle": "2022-01-05T19:52:49.207867Z",
     "shell.execute_reply": "2022-01-05T19:52:49.208389Z",
     "shell.execute_reply.started": "2022-01-05T19:48:22.536265Z"
    },
    "papermill": {
     "duration": 0.039202,
     "end_time": "2022-01-05T19:52:49.208698",
     "exception": false,
     "start_time": "2022-01-05T19:52:49.169496",
     "status": "completed"
    },
    "tags": []
   },
   "outputs": [
    {
     "name": "stdout",
     "output_type": "stream",
     "text": [
      "You've successfully run some Python code\n",
      "Congratulations!\n"
     ]
    }
   ],
   "source": [
    "print(\"You've successfully run some Python code\")\n",
    "print(\"Congratulations!\")"
   ]
  },
  {
   "cell_type": "code",
   "execution_count": 2,
   "id": "1ca761a4",
   "metadata": {
    "execution": {
     "iopub.execute_input": "2022-01-05T19:52:49.256630Z",
     "iopub.status.busy": "2022-01-05T19:52:49.255564Z",
     "iopub.status.idle": "2022-01-05T19:52:49.261066Z",
     "shell.execute_reply": "2022-01-05T19:52:49.260528Z",
     "shell.execute_reply.started": "2022-01-05T19:50:55.067526Z"
    },
    "papermill": {
     "duration": 0.030279,
     "end_time": "2022-01-05T19:52:49.261215",
     "exception": false,
     "start_time": "2022-01-05T19:52:49.230936",
     "status": "completed"
    },
    "tags": []
   },
   "outputs": [
    {
     "name": "stdout",
     "output_type": "stream",
     "text": [
      "This is my first python code\n",
      "Hope it wont be much hard\n"
     ]
    }
   ],
   "source": [
    "print(\"This is my first python code\")\n",
    "print(\"Hope it wont be much hard\")"
   ]
  },
  {
   "cell_type": "markdown",
   "id": "a4802f3f",
   "metadata": {
    "papermill": {
     "duration": 0.021572,
     "end_time": "2022-01-05T19:52:49.304712",
     "exception": false,
     "start_time": "2022-01-05T19:52:49.283140",
     "status": "completed"
    },
    "tags": []
   },
   "source": [
    "Try adding another line of code in the cell above and re-running it. \n",
    "\n",
    "Now let's get a little fancier:  Add a new code cell by clicking on an existing code cell, hitting the escape key, and then hitting the `a` or `b` key.  The `a` key will add a cell above the current cell, and `b` adds a cell below.\n",
    "\n",
    "Great! Now you know how to use Notebooks.\n",
    "\n",
    "Each hands-on exercise starts by setting up our feedback and code checking mechanism. Run the code cell below to do that. Then you'll be ready to move on to question 0."
   ]
  },
  {
   "cell_type": "code",
   "execution_count": 3,
   "id": "49a5529c",
   "metadata": {
    "_kg_hide-input": true,
    "_kg_hide-output": true,
    "execution": {
     "iopub.execute_input": "2022-01-05T19:52:49.352730Z",
     "iopub.status.busy": "2022-01-05T19:52:49.351701Z",
     "iopub.status.idle": "2022-01-05T19:52:49.395106Z",
     "shell.execute_reply": "2022-01-05T19:52:49.395651Z",
     "shell.execute_reply.started": "2022-01-05T19:50:58.472795Z"
    },
    "papermill": {
     "duration": 0.069005,
     "end_time": "2022-01-05T19:52:49.395858",
     "exception": false,
     "start_time": "2022-01-05T19:52:49.326853",
     "status": "completed"
    },
    "tags": []
   },
   "outputs": [
    {
     "name": "stdout",
     "output_type": "stream",
     "text": [
      "Setup complete! You're ready to start question 0.\n"
     ]
    }
   ],
   "source": [
    "from learntools.core import binder; binder.bind(globals())\n",
    "from learntools.python.ex1 import *\n",
    "print(\"Setup complete! You're ready to start question 0.\")"
   ]
  },
  {
   "cell_type": "markdown",
   "id": "79227e62",
   "metadata": {
    "papermill": {
     "duration": 0.021854,
     "end_time": "2022-01-05T19:52:49.440263",
     "exception": false,
     "start_time": "2022-01-05T19:52:49.418409",
     "status": "completed"
    },
    "tags": []
   },
   "source": [
    "# 0.\n",
    "\n",
    "*This is a silly question intended as an introduction to the format we use for hands-on exercises throughout all Kaggle courses.*\n",
    "\n",
    "**What is your favorite color? **\n",
    "\n",
    "To complete this question, create a variable called `color` in the cell below with an appropriate value. The function call `q0.check()` (which we've already provided in the cell below) will check your answer."
   ]
  },
  {
   "cell_type": "code",
   "execution_count": 4,
   "id": "9cb91e84",
   "metadata": {
    "execution": {
     "iopub.execute_input": "2022-01-05T19:52:49.488799Z",
     "iopub.status.busy": "2022-01-05T19:52:49.487746Z",
     "iopub.status.idle": "2022-01-05T19:52:49.497999Z",
     "shell.execute_reply": "2022-01-05T19:52:49.498527Z",
     "shell.execute_reply.started": "2022-01-05T19:51:03.207301Z"
    },
    "papermill": {
     "duration": 0.036103,
     "end_time": "2022-01-05T19:52:49.498709",
     "exception": false,
     "start_time": "2022-01-05T19:52:49.462606",
     "status": "completed"
    },
    "tags": []
   },
   "outputs": [
    {
     "data": {
      "application/javascript": [
       "parent.postMessage({\"jupyterEvent\": \"custom.exercise_interaction\", \"data\": {\"outcomeType\": 2, \"failureMessage\": \"\", \"interactionType\": 1, \"questionType\": 2, \"questionId\": \"0_ExerciseFormatTutorial\", \"learnToolsVersion\": \"0.3.4\", \"valueTowardsCompletion\": 0.0, \"exceptionClass\": \"\", \"trace\": \"\"}}, \"*\")"
      ],
      "text/plain": [
       "<IPython.core.display.Javascript object>"
      ]
     },
     "metadata": {},
     "output_type": "display_data"
    },
    {
     "data": {
      "text/markdown": [
       "<span style=\"color:#cc3333\">Incorrect</span>"
      ],
      "text/plain": [
       "Incorrect"
      ]
     },
     "metadata": {},
     "output_type": "display_data"
    }
   ],
   "source": [
    "# create a variable called color with an appropriate value on the line below\n",
    "color = 'black'\n",
    "# (Remember, strings in Python must be enclosed in 'single' or \"double\" quotes)\n",
    "____\n",
    "\n",
    "# Check your answer\n",
    "q0.check()"
   ]
  },
  {
   "cell_type": "markdown",
   "id": "a25e1269",
   "metadata": {
    "papermill": {
     "duration": 0.023054,
     "end_time": "2022-01-05T19:52:49.545134",
     "exception": false,
     "start_time": "2022-01-05T19:52:49.522080",
     "status": "completed"
    },
    "tags": []
   },
   "source": [
    "Didn't get the right answer? How do you not even know your own favorite color?!\n",
    "\n",
    "Delete the `#` in the line below to make one of the lines run. You can choose between getting a hint or the full answer by choosing which line to remove the `#` from. \n",
    "\n",
    "Removing the `#` is called uncommenting, because it changes that line from a \"comment\" which Python doesn't run to code, which Python does run."
   ]
  },
  {
   "cell_type": "code",
   "execution_count": 5,
   "id": "07c4b7a2",
   "metadata": {
    "execution": {
     "iopub.execute_input": "2022-01-05T19:52:49.595557Z",
     "iopub.status.busy": "2022-01-05T19:52:49.594596Z",
     "iopub.status.idle": "2022-01-05T19:52:49.605450Z",
     "shell.execute_reply": "2022-01-05T19:52:49.606290Z",
     "shell.execute_reply.started": "2022-01-05T19:51:11.758531Z"
    },
    "papermill": {
     "duration": 0.038057,
     "end_time": "2022-01-05T19:52:49.606480",
     "exception": false,
     "start_time": "2022-01-05T19:52:49.568423",
     "status": "completed"
    },
    "tags": []
   },
   "outputs": [
    {
     "data": {
      "application/javascript": [
       "parent.postMessage({\"jupyterEvent\": \"custom.exercise_interaction\", \"data\": {\"interactionType\": 2, \"questionType\": 2, \"questionId\": \"0_ExerciseFormatTutorial\", \"learnToolsVersion\": \"0.3.4\", \"valueTowardsCompletion\": 0.0, \"failureMessage\": \"\", \"exceptionClass\": \"\", \"trace\": \"\", \"outcomeType\": 4}}, \"*\")"
      ],
      "text/plain": [
       "<IPython.core.display.Javascript object>"
      ]
     },
     "metadata": {},
     "output_type": "display_data"
    },
    {
     "data": {
      "text/markdown": [
       "<span style=\"color:#3366cc\">Hint:</span> Your favorite color rhymes with *glue*."
      ],
      "text/plain": [
       "Hint: Your favorite color rhymes with *glue*."
      ]
     },
     "metadata": {},
     "output_type": "display_data"
    },
    {
     "data": {
      "application/javascript": [
       "parent.postMessage({\"jupyterEvent\": \"custom.exercise_interaction\", \"data\": {\"interactionType\": 3, \"questionType\": 2, \"questionId\": \"0_ExerciseFormatTutorial\", \"learnToolsVersion\": \"0.3.4\", \"valueTowardsCompletion\": 0.0, \"failureMessage\": \"\", \"exceptionClass\": \"\", \"trace\": \"\", \"outcomeType\": 4}}, \"*\")"
      ],
      "text/plain": [
       "<IPython.core.display.Javascript object>"
      ]
     },
     "metadata": {},
     "output_type": "display_data"
    },
    {
     "data": {
      "text/markdown": [
       "<span style=\"color:#33cc99\">Solution:</span> \n",
       "```python\n",
       "color = \"blue\"\n",
       "```"
      ],
      "text/plain": [
       "Solution: \n",
       "```python\n",
       "color = \"blue\"\n",
       "```"
      ]
     },
     "metadata": {},
     "output_type": "display_data"
    }
   ],
   "source": [
    "q0.hint()\n",
    "q0.solution()"
   ]
  },
  {
   "cell_type": "markdown",
   "id": "dcab2b54",
   "metadata": {
    "papermill": {
     "duration": 0.02478,
     "end_time": "2022-01-05T19:52:49.656784",
     "exception": false,
     "start_time": "2022-01-05T19:52:49.632004",
     "status": "completed"
    },
    "tags": []
   },
   "source": [
    "The upcoming questions work the same way. The only thing that will change are the question numbers. For the next question, you'll call `q1.check()`, `q1.hint()`, `q1.solution()`, for question 2, you'll call `q2.check()`, and so on."
   ]
  },
  {
   "cell_type": "markdown",
   "id": "44c24698",
   "metadata": {
    "papermill": {
     "duration": 0.024967,
     "end_time": "2022-01-05T19:52:49.707459",
     "exception": false,
     "start_time": "2022-01-05T19:52:49.682492",
     "status": "completed"
    },
    "tags": []
   },
   "source": [
    "<hr/>\n",
    "\n",
    "# 1.\n",
    "\n",
    "Complete the code below. In case it's helpful, here is the table of available arithmetic operations:\n",
    "\n",
    "\n",
    "\n",
    "| Operator     | Name           | Description                                            |\n",
    "|--------------|----------------|--------------------------------------------------------|\n",
    "| ``a + b``    | Addition       | Sum of ``a`` and ``b``                                 |\n",
    "| ``a - b``    | Subtraction    | Difference of ``a`` and ``b``                          |\n",
    "| ``a * b``    | Multiplication | Product of ``a`` and ``b``                             |\n",
    "| ``a / b``    | True division  | Quotient of ``a`` and ``b``                            |\n",
    "| ``a // b``   | Floor division | Quotient of ``a`` and ``b``, removing fractional parts |\n",
    "| ``a % b``    | Modulus        | Integer remainder after division of ``a`` by ``b``     |\n",
    "| ``a ** b``   | Exponentiation | ``a`` raised to the power of ``b``                     |\n",
    "| ``-a``       | Negation       | The negative of ``a``                                  |\n",
    "\n",
    "<span style=\"display:none\"></span>\n"
   ]
  },
  {
   "cell_type": "code",
   "execution_count": 6,
   "id": "e09eb7da",
   "metadata": {
    "execution": {
     "iopub.execute_input": "2022-01-05T19:52:49.765492Z",
     "iopub.status.busy": "2022-01-05T19:52:49.764460Z",
     "iopub.status.idle": "2022-01-05T19:52:49.769308Z",
     "shell.execute_reply": "2022-01-05T19:52:49.769800Z",
     "shell.execute_reply.started": "2022-01-05T19:51:21.004023Z"
    },
    "papermill": {
     "duration": 0.037134,
     "end_time": "2022-01-05T19:52:49.769981",
     "exception": false,
     "start_time": "2022-01-05T19:52:49.732847",
     "status": "completed"
    },
    "tags": []
   },
   "outputs": [
    {
     "data": {
      "application/javascript": [
       "parent.postMessage({\"jupyterEvent\": \"custom.exercise_interaction\", \"data\": {\"outcomeType\": 1, \"valueTowardsCompletion\": 0.25, \"interactionType\": 1, \"questionType\": 1, \"questionId\": \"1_CircleArea\", \"learnToolsVersion\": \"0.3.4\", \"failureMessage\": \"\", \"exceptionClass\": \"\", \"trace\": \"\"}}, \"*\")"
      ],
      "text/plain": [
       "<IPython.core.display.Javascript object>"
      ]
     },
     "metadata": {},
     "output_type": "display_data"
    },
    {
     "data": {
      "text/markdown": [
       "<span style=\"color:#33cc33\">Correct</span>"
      ],
      "text/plain": [
       "Correct"
      ]
     },
     "metadata": {},
     "output_type": "display_data"
    }
   ],
   "source": [
    "pi = 3.14159 # approximate\n",
    "diameter = 3\n",
    "\n",
    "# Create a variable called 'radius' equal to half the diameter\n",
    "radius = diameter / 2\n",
    "____\n",
    "\n",
    "# Create a variable called 'area', using the formula for the area of a circle: pi times the radius squared\n",
    "area = pi * radius ** 2\n",
    "____\n",
    "\n",
    "# Check your answer\n",
    "q1.check()"
   ]
  },
  {
   "cell_type": "code",
   "execution_count": 7,
   "id": "971d836e",
   "metadata": {
    "execution": {
     "iopub.execute_input": "2022-01-05T19:52:49.828989Z",
     "iopub.status.busy": "2022-01-05T19:52:49.826148Z",
     "iopub.status.idle": "2022-01-05T19:52:49.837086Z",
     "shell.execute_reply": "2022-01-05T19:52:49.837567Z",
     "shell.execute_reply.started": "2022-01-05T19:51:24.124134Z"
    },
    "papermill": {
     "duration": 0.041621,
     "end_time": "2022-01-05T19:52:49.837761",
     "exception": false,
     "start_time": "2022-01-05T19:52:49.796140",
     "status": "completed"
    },
    "tags": []
   },
   "outputs": [
    {
     "data": {
      "application/javascript": [
       "parent.postMessage({\"jupyterEvent\": \"custom.exercise_interaction\", \"data\": {\"interactionType\": 2, \"questionType\": 1, \"questionId\": \"1_CircleArea\", \"learnToolsVersion\": \"0.3.4\", \"valueTowardsCompletion\": 0.0, \"failureMessage\": \"\", \"exceptionClass\": \"\", \"trace\": \"\", \"outcomeType\": 4}}, \"*\")"
      ],
      "text/plain": [
       "<IPython.core.display.Javascript object>"
      ]
     },
     "metadata": {},
     "output_type": "display_data"
    },
    {
     "data": {
      "text/markdown": [
       "<span style=\"color:#3366cc\">Hint:</span> The syntax to raise a to the b'th power is `a ** b`"
      ],
      "text/plain": [
       "Hint: The syntax to raise a to the b'th power is `a ** b`"
      ]
     },
     "metadata": {},
     "output_type": "display_data"
    },
    {
     "data": {
      "application/javascript": [
       "parent.postMessage({\"jupyterEvent\": \"custom.exercise_interaction\", \"data\": {\"interactionType\": 3, \"questionType\": 1, \"questionId\": \"1_CircleArea\", \"learnToolsVersion\": \"0.3.4\", \"valueTowardsCompletion\": 0.0, \"failureMessage\": \"\", \"exceptionClass\": \"\", \"trace\": \"\", \"outcomeType\": 4}}, \"*\")"
      ],
      "text/plain": [
       "<IPython.core.display.Javascript object>"
      ]
     },
     "metadata": {},
     "output_type": "display_data"
    },
    {
     "data": {
      "text/markdown": [
       "<span style=\"color:#33cc99\">Solution:</span> \n",
       "```python\n",
       "radius = diameter / 2\n",
       "area = pi * radius ** 2\n",
       "```"
      ],
      "text/plain": [
       "Solution: \n",
       "```python\n",
       "radius = diameter / 2\n",
       "area = pi * radius ** 2\n",
       "```"
      ]
     },
     "metadata": {},
     "output_type": "display_data"
    }
   ],
   "source": [
    "# Uncomment and run the lines below if you need help.\n",
    "q1.hint()\n",
    "q1.solution()"
   ]
  },
  {
   "cell_type": "markdown",
   "id": "8196313f",
   "metadata": {
    "papermill": {
     "duration": 0.027738,
     "end_time": "2022-01-05T19:52:49.893807",
     "exception": false,
     "start_time": "2022-01-05T19:52:49.866069",
     "status": "completed"
    },
    "tags": []
   },
   "source": [
    "<hr/>\n",
    "\n",
    "# 2.\n",
    "\n",
    "Add code to the following cell to swap variables `a` and `b` (so that `a` refers to the object previously referred to by `b` and vice versa)."
   ]
  },
  {
   "cell_type": "code",
   "execution_count": 8,
   "id": "d4997d24",
   "metadata": {
    "execution": {
     "iopub.execute_input": "2022-01-05T19:52:49.955532Z",
     "iopub.status.busy": "2022-01-05T19:52:49.954516Z",
     "iopub.status.idle": "2022-01-05T19:52:49.963304Z",
     "shell.execute_reply": "2022-01-05T19:52:49.963805Z",
     "shell.execute_reply.started": "2022-01-05T19:51:29.157587Z"
    },
    "papermill": {
     "duration": 0.041494,
     "end_time": "2022-01-05T19:52:49.963987",
     "exception": false,
     "start_time": "2022-01-05T19:52:49.922493",
     "status": "completed"
    },
    "tags": []
   },
   "outputs": [
    {
     "data": {
      "application/javascript": [
       "parent.postMessage({\"jupyterEvent\": \"custom.exercise_interaction\", \"data\": {\"outcomeType\": 1, \"valueTowardsCompletion\": 0.25, \"interactionType\": 1, \"questionType\": 2, \"questionId\": \"2_VariableSwap\", \"learnToolsVersion\": \"0.3.4\", \"failureMessage\": \"\", \"exceptionClass\": \"\", \"trace\": \"\"}}, \"*\")"
      ],
      "text/plain": [
       "<IPython.core.display.Javascript object>"
      ]
     },
     "metadata": {},
     "output_type": "display_data"
    },
    {
     "data": {
      "text/markdown": [
       "<span style=\"color:#33cc33\">Correct:</span> \n",
       "\n",
       "The most straightforward solution is to use a third variable to temporarily store one of the old values. e.g.:\n",
       "\n",
       "    tmp = a\n",
       "    a = b\n",
       "    b = tmp\n",
       "\n",
       "If you've read lots of Python code, you might have seen the following trick to swap two variables in one line:\n",
       "\n",
       "    a, b = b, a\n",
       "\n",
       "We'll demystify this bit of Python magic later when we talk about *tuples*."
      ],
      "text/plain": [
       "Correct: \n",
       "\n",
       "The most straightforward solution is to use a third variable to temporarily store one of the old values. e.g.:\n",
       "\n",
       "    tmp = a\n",
       "    a = b\n",
       "    b = tmp\n",
       "\n",
       "If you've read lots of Python code, you might have seen the following trick to swap two variables in one line:\n",
       "\n",
       "    a, b = b, a\n",
       "\n",
       "We'll demystify this bit of Python magic later when we talk about *tuples*."
      ]
     },
     "metadata": {},
     "output_type": "display_data"
    }
   ],
   "source": [
    "########### Setup code - don't touch this part ######################\n",
    "# If you're curious, these are examples of lists. We'll talk about \n",
    "# them in depth a few lessons from now. For now, just know that they're\n",
    "# yet another type of Python object, like int or float.\n",
    "a = [1, 2, 3]\n",
    "b = [3, 2, 1]\n",
    "q2.store_original_ids()\n",
    "######################################################################\n",
    "\n",
    "# Your code goes here. Swap the values to which a and b refer.\n",
    "# If you get stuck, you can always uncomment one or both of the lines in\n",
    "# the next cell for a hint, or to peek at the solution.\n",
    "c = a\n",
    "a = b\n",
    "b = c\n",
    "######################################################################\n",
    "\n",
    "# Check your answer\n",
    "q2.check()"
   ]
  },
  {
   "cell_type": "code",
   "execution_count": 9,
   "id": "05abbe14",
   "metadata": {
    "execution": {
     "iopub.execute_input": "2022-01-05T19:52:50.029879Z",
     "iopub.status.busy": "2022-01-05T19:52:50.028784Z",
     "iopub.status.idle": "2022-01-05T19:52:50.033804Z",
     "shell.execute_reply": "2022-01-05T19:52:50.034299Z",
     "shell.execute_reply.started": "2022-01-05T19:51:32.138001Z"
    },
    "papermill": {
     "duration": 0.040888,
     "end_time": "2022-01-05T19:52:50.034472",
     "exception": false,
     "start_time": "2022-01-05T19:52:49.993584",
     "status": "completed"
    },
    "tags": []
   },
   "outputs": [
    {
     "data": {
      "application/javascript": [
       "parent.postMessage({\"jupyterEvent\": \"custom.exercise_interaction\", \"data\": {\"interactionType\": 2, \"questionType\": 2, \"questionId\": \"2_VariableSwap\", \"learnToolsVersion\": \"0.3.4\", \"valueTowardsCompletion\": 0.0, \"failureMessage\": \"\", \"exceptionClass\": \"\", \"trace\": \"\", \"outcomeType\": 4}}, \"*\")"
      ],
      "text/plain": [
       "<IPython.core.display.Javascript object>"
      ]
     },
     "metadata": {},
     "output_type": "display_data"
    },
    {
     "data": {
      "text/markdown": [
       "<span style=\"color:#3366cc\">Hint:</span> Try using a third variable."
      ],
      "text/plain": [
       "Hint: Try using a third variable."
      ]
     },
     "metadata": {},
     "output_type": "display_data"
    }
   ],
   "source": [
    "q2.hint()"
   ]
  },
  {
   "cell_type": "code",
   "execution_count": 10,
   "id": "5836f842",
   "metadata": {
    "execution": {
     "iopub.execute_input": "2022-01-05T19:52:50.100741Z",
     "iopub.status.busy": "2022-01-05T19:52:50.099718Z",
     "iopub.status.idle": "2022-01-05T19:52:50.106789Z",
     "shell.execute_reply": "2022-01-05T19:52:50.107295Z",
     "shell.execute_reply.started": "2022-01-05T19:51:34.476455Z"
    },
    "papermill": {
     "duration": 0.041367,
     "end_time": "2022-01-05T19:52:50.107470",
     "exception": false,
     "start_time": "2022-01-05T19:52:50.066103",
     "status": "completed"
    },
    "tags": []
   },
   "outputs": [
    {
     "data": {
      "application/javascript": [
       "parent.postMessage({\"jupyterEvent\": \"custom.exercise_interaction\", \"data\": {\"interactionType\": 3, \"questionType\": 2, \"questionId\": \"2_VariableSwap\", \"learnToolsVersion\": \"0.3.4\", \"valueTowardsCompletion\": 0.0, \"failureMessage\": \"\", \"exceptionClass\": \"\", \"trace\": \"\", \"outcomeType\": 4}}, \"*\")"
      ],
      "text/plain": [
       "<IPython.core.display.Javascript object>"
      ]
     },
     "metadata": {},
     "output_type": "display_data"
    },
    {
     "data": {
      "text/markdown": [
       "<span style=\"color:#33cc99\">Solution:</span> The most straightforward solution is to use a third variable to temporarily store one of the old values. e.g.:\n",
       "\n",
       "    tmp = a\n",
       "    a = b\n",
       "    b = tmp\n",
       "\n",
       "If you've read lots of Python code, you might have seen the following trick to swap two variables in one line:\n",
       "\n",
       "    a, b = b, a\n",
       "\n",
       "We'll demystify this bit of Python magic later when we talk about *tuples*."
      ],
      "text/plain": [
       "Solution: The most straightforward solution is to use a third variable to temporarily store one of the old values. e.g.:\n",
       "\n",
       "    tmp = a\n",
       "    a = b\n",
       "    b = tmp\n",
       "\n",
       "If you've read lots of Python code, you might have seen the following trick to swap two variables in one line:\n",
       "\n",
       "    a, b = b, a\n",
       "\n",
       "We'll demystify this bit of Python magic later when we talk about *tuples*."
      ]
     },
     "metadata": {},
     "output_type": "display_data"
    }
   ],
   "source": [
    "q2.solution()"
   ]
  },
  {
   "cell_type": "markdown",
   "id": "6158c99b",
   "metadata": {
    "papermill": {
     "duration": 0.030655,
     "end_time": "2022-01-05T19:52:50.169190",
     "exception": false,
     "start_time": "2022-01-05T19:52:50.138535",
     "status": "completed"
    },
    "tags": []
   },
   "source": [
    "<hr/>\n",
    "\n",
    "# 3a.\n",
    "\n",
    "Add parentheses to the following expression so that it evaluates to 1."
   ]
  },
  {
   "cell_type": "code",
   "execution_count": 11,
   "id": "10a39081",
   "metadata": {
    "execution": {
     "iopub.execute_input": "2022-01-05T19:52:50.235442Z",
     "iopub.status.busy": "2022-01-05T19:52:50.234468Z",
     "iopub.status.idle": "2022-01-05T19:52:50.239362Z",
     "shell.execute_reply": "2022-01-05T19:52:50.239871Z",
     "shell.execute_reply.started": "2022-01-05T19:51:37.902655Z"
    },
    "papermill": {
     "duration": 0.039826,
     "end_time": "2022-01-05T19:52:50.240036",
     "exception": false,
     "start_time": "2022-01-05T19:52:50.200210",
     "status": "completed"
    },
    "tags": []
   },
   "outputs": [
    {
     "data": {
      "text/plain": [
       "1"
      ]
     },
     "execution_count": 11,
     "metadata": {},
     "output_type": "execute_result"
    }
   ],
   "source": [
    "(5 - 3) // 2"
   ]
  },
  {
   "cell_type": "code",
   "execution_count": 12,
   "id": "cf0cce38",
   "metadata": {
    "execution": {
     "iopub.execute_input": "2022-01-05T19:52:50.306178Z",
     "iopub.status.busy": "2022-01-05T19:52:50.305227Z",
     "iopub.status.idle": "2022-01-05T19:52:50.311829Z",
     "shell.execute_reply": "2022-01-05T19:52:50.312313Z",
     "shell.execute_reply.started": "2022-01-05T19:51:39.737234Z"
    },
    "papermill": {
     "duration": 0.041242,
     "end_time": "2022-01-05T19:52:50.312486",
     "exception": false,
     "start_time": "2022-01-05T19:52:50.271244",
     "status": "completed"
    },
    "tags": []
   },
   "outputs": [
    {
     "data": {
      "application/javascript": [
       "parent.postMessage({\"jupyterEvent\": \"custom.exercise_interaction\", \"data\": {\"interactionType\": 2, \"questionType\": 4, \"questionId\": \"3.1_ArithmeticParensEasy\", \"learnToolsVersion\": \"0.3.4\", \"valueTowardsCompletion\": 0.0, \"failureMessage\": \"\", \"exceptionClass\": \"\", \"trace\": \"\", \"outcomeType\": 4}}, \"*\")"
      ],
      "text/plain": [
       "<IPython.core.display.Javascript object>"
      ]
     },
     "metadata": {},
     "output_type": "display_data"
    },
    {
     "data": {
      "text/markdown": [
       "<span style=\"color:#3366cc\">Hint:</span> Following its default \"BEDMAS\"-like rules for order of operations, Python will first divide 3 by 2, then subtract the result from 5. You need to add parentheses to force it to perform the subtraction first."
      ],
      "text/plain": [
       "Hint: Following its default \"BEDMAS\"-like rules for order of operations, Python will first divide 3 by 2, then subtract the result from 5. You need to add parentheses to force it to perform the subtraction first."
      ]
     },
     "metadata": {},
     "output_type": "display_data"
    }
   ],
   "source": [
    "q3.a.hint()"
   ]
  },
  {
   "cell_type": "code",
   "execution_count": 13,
   "id": "2f2a6195",
   "metadata": {
    "execution": {
     "iopub.execute_input": "2022-01-05T19:52:50.380510Z",
     "iopub.status.busy": "2022-01-05T19:52:50.379560Z",
     "iopub.status.idle": "2022-01-05T19:52:50.386040Z",
     "shell.execute_reply": "2022-01-05T19:52:50.386498Z",
     "shell.execute_reply.started": "2022-01-05T19:51:42.002645Z"
    },
    "papermill": {
     "duration": 0.042099,
     "end_time": "2022-01-05T19:52:50.386667",
     "exception": false,
     "start_time": "2022-01-05T19:52:50.344568",
     "status": "completed"
    },
    "tags": []
   },
   "outputs": [
    {
     "data": {
      "application/javascript": [
       "parent.postMessage({\"jupyterEvent\": \"custom.exercise_interaction\", \"data\": {\"interactionType\": 3, \"questionType\": 4, \"questionId\": \"3.1_ArithmeticParensEasy\", \"learnToolsVersion\": \"0.3.4\", \"valueTowardsCompletion\": 0.0, \"failureMessage\": \"\", \"exceptionClass\": \"\", \"trace\": \"\", \"outcomeType\": 4}}, \"*\")"
      ],
      "text/plain": [
       "<IPython.core.display.Javascript object>"
      ]
     },
     "metadata": {},
     "output_type": "display_data"
    },
    {
     "data": {
      "text/markdown": [
       "<span style=\"color:#33cc99\">Solution:</span> \n",
       "```python\n",
       "(5 - 3) // 2\n",
       "```"
      ],
      "text/plain": [
       "Solution: \n",
       "```python\n",
       "(5 - 3) // 2\n",
       "```"
      ]
     },
     "metadata": {},
     "output_type": "display_data"
    }
   ],
   "source": [
    "# Check your answer (Run this code cell to receive credit!)\n",
    "q3.a.solution()"
   ]
  },
  {
   "cell_type": "markdown",
   "id": "5174353f",
   "metadata": {
    "papermill": {
     "duration": 0.032778,
     "end_time": "2022-01-05T19:52:50.452636",
     "exception": false,
     "start_time": "2022-01-05T19:52:50.419858",
     "status": "completed"
    },
    "tags": []
   },
   "source": [
    "# 3b.  <span title=\"A bit spicy\" style=\"color: darkgreen \">🌶️</span>\n",
    "\n",
    "<small>Questions, like this one, marked a spicy pepper are a bit harder.</small>\n",
    "\n",
    "Add parentheses to the following expression so that it evaluates to 0."
   ]
  },
  {
   "cell_type": "code",
   "execution_count": 14,
   "id": "e210668d",
   "metadata": {
    "execution": {
     "iopub.execute_input": "2022-01-05T19:52:50.522671Z",
     "iopub.status.busy": "2022-01-05T19:52:50.521707Z",
     "iopub.status.idle": "2022-01-05T19:52:50.527623Z",
     "shell.execute_reply": "2022-01-05T19:52:50.527114Z",
     "shell.execute_reply.started": "2022-01-05T19:51:46.138202Z"
    },
    "papermill": {
     "duration": 0.041952,
     "end_time": "2022-01-05T19:52:50.527774",
     "exception": false,
     "start_time": "2022-01-05T19:52:50.485822",
     "status": "completed"
    },
    "tags": []
   },
   "outputs": [
    {
     "data": {
      "text/plain": [
       "0"
      ]
     },
     "execution_count": 14,
     "metadata": {},
     "output_type": "execute_result"
    }
   ],
   "source": [
    "(8 - (3 * 2)) - (1 + 1)"
   ]
  },
  {
   "cell_type": "code",
   "execution_count": 15,
   "id": "38fe3752",
   "metadata": {
    "execution": {
     "iopub.execute_input": "2022-01-05T19:52:50.597943Z",
     "iopub.status.busy": "2022-01-05T19:52:50.597325Z",
     "iopub.status.idle": "2022-01-05T19:52:50.603150Z",
     "shell.execute_reply": "2022-01-05T19:52:50.603742Z",
     "shell.execute_reply.started": "2022-01-05T19:51:48.142068Z"
    },
    "papermill": {
     "duration": 0.042333,
     "end_time": "2022-01-05T19:52:50.603920",
     "exception": false,
     "start_time": "2022-01-05T19:52:50.561587",
     "status": "completed"
    },
    "tags": []
   },
   "outputs": [
    {
     "data": {
      "application/javascript": [
       "parent.postMessage({\"jupyterEvent\": \"custom.exercise_interaction\", \"data\": {\"interactionType\": 2, \"questionType\": 4, \"questionId\": \"3.2_ArithmeticParensHard\", \"learnToolsVersion\": \"0.3.4\", \"valueTowardsCompletion\": 0.0, \"failureMessage\": \"\", \"exceptionClass\": \"\", \"trace\": \"\", \"outcomeType\": 4}}, \"*\")"
      ],
      "text/plain": [
       "<IPython.core.display.Javascript object>"
      ]
     },
     "metadata": {},
     "output_type": "display_data"
    },
    {
     "data": {
      "text/markdown": [
       "<span style=\"color:#3366cc\">Hint:</span> You may need to use several pairs of parentheses."
      ],
      "text/plain": [
       "Hint: You may need to use several pairs of parentheses."
      ]
     },
     "metadata": {},
     "output_type": "display_data"
    }
   ],
   "source": [
    "q3.b.hint()"
   ]
  },
  {
   "cell_type": "code",
   "execution_count": 16,
   "id": "65477be0",
   "metadata": {
    "execution": {
     "iopub.execute_input": "2022-01-05T19:52:50.675758Z",
     "iopub.status.busy": "2022-01-05T19:52:50.675153Z",
     "iopub.status.idle": "2022-01-05T19:52:50.680615Z",
     "shell.execute_reply": "2022-01-05T19:52:50.681219Z",
     "shell.execute_reply.started": "2022-01-05T19:51:49.943154Z"
    },
    "papermill": {
     "duration": 0.04297,
     "end_time": "2022-01-05T19:52:50.681384",
     "exception": false,
     "start_time": "2022-01-05T19:52:50.638414",
     "status": "completed"
    },
    "tags": []
   },
   "outputs": [
    {
     "data": {
      "application/javascript": [
       "parent.postMessage({\"jupyterEvent\": \"custom.exercise_interaction\", \"data\": {\"interactionType\": 3, \"questionType\": 4, \"questionId\": \"3.2_ArithmeticParensHard\", \"learnToolsVersion\": \"0.3.4\", \"valueTowardsCompletion\": 0.0, \"failureMessage\": \"\", \"exceptionClass\": \"\", \"trace\": \"\", \"outcomeType\": 4}}, \"*\")"
      ],
      "text/plain": [
       "<IPython.core.display.Javascript object>"
      ]
     },
     "metadata": {},
     "output_type": "display_data"
    },
    {
     "data": {
      "text/markdown": [
       "<span style=\"color:#33cc99\">Solution:</span> `(8 - 3) * (2 - (1 + 1))` is one solution. There may be others."
      ],
      "text/plain": [
       "Solution: `(8 - 3) * (2 - (1 + 1))` is one solution. There may be others."
      ]
     },
     "metadata": {},
     "output_type": "display_data"
    }
   ],
   "source": [
    "# Check your answer (Run this code cell to receive credit!)\n",
    "q3.b.solution()"
   ]
  },
  {
   "cell_type": "markdown",
   "id": "64b90497",
   "metadata": {
    "papermill": {
     "duration": 0.035589,
     "end_time": "2022-01-05T19:52:50.753013",
     "exception": false,
     "start_time": "2022-01-05T19:52:50.717424",
     "status": "completed"
    },
    "tags": []
   },
   "source": [
    "<hr/>\n",
    "\n",
    "# 4. \n",
    "Alice, Bob and Carol have agreed to pool their Halloween candy and split it evenly among themselves.\n",
    "For the sake of their friendship, any candies left over will be smashed. For example, if they collectively\n",
    "bring home 91 candies, they'll take 30 each and smash 1.\n",
    "\n",
    "Write an arithmetic expression below to calculate how many candies they must smash for a given haul."
   ]
  },
  {
   "cell_type": "code",
   "execution_count": 17,
   "id": "42bebf7d",
   "metadata": {
    "execution": {
     "iopub.execute_input": "2022-01-05T19:52:50.827370Z",
     "iopub.status.busy": "2022-01-05T19:52:50.826731Z",
     "iopub.status.idle": "2022-01-05T19:52:50.833276Z",
     "shell.execute_reply": "2022-01-05T19:52:50.833868Z",
     "shell.execute_reply.started": "2022-01-05T19:51:53.932041Z"
    },
    "papermill": {
     "duration": 0.045173,
     "end_time": "2022-01-05T19:52:50.834035",
     "exception": false,
     "start_time": "2022-01-05T19:52:50.788862",
     "status": "completed"
    },
    "tags": []
   },
   "outputs": [
    {
     "data": {
      "application/javascript": [
       "parent.postMessage({\"jupyterEvent\": \"custom.exercise_interaction\", \"data\": {\"outcomeType\": 1, \"valueTowardsCompletion\": 0.25, \"interactionType\": 1, \"questionType\": 1, \"questionId\": \"4_CandySplitting\", \"learnToolsVersion\": \"0.3.4\", \"failureMessage\": \"\", \"exceptionClass\": \"\", \"trace\": \"\"}}, \"*\")"
      ],
      "text/plain": [
       "<IPython.core.display.Javascript object>"
      ]
     },
     "metadata": {},
     "output_type": "display_data"
    },
    {
     "data": {
      "text/markdown": [
       "<span style=\"color:#33cc33\">Correct</span>"
      ],
      "text/plain": [
       "Correct"
      ]
     },
     "metadata": {},
     "output_type": "display_data"
    }
   ],
   "source": [
    "# Variables representing the number of candies collected by alice, bob, and carol\n",
    "alice_candies = 121\n",
    "bob_candies = 77\n",
    "carol_candies = 109\n",
    "\n",
    "# Your code goes here! Replace the right-hand side of this assignment with an expression\n",
    "# involving alice_candies, bob_candies, and carol_candies\n",
    "total_candies = alice_candies + bob_candies + carol_candies\n",
    "to_smash = total_candies % 3\n",
    "\n",
    "# Check your answer\n",
    "q4.check()"
   ]
  },
  {
   "cell_type": "code",
   "execution_count": 18,
   "id": "4a1ce94c",
   "metadata": {
    "execution": {
     "iopub.execute_input": "2022-01-05T19:52:50.910600Z",
     "iopub.status.busy": "2022-01-05T19:52:50.909964Z",
     "iopub.status.idle": "2022-01-05T19:52:50.918644Z",
     "shell.execute_reply": "2022-01-05T19:52:50.919239Z",
     "shell.execute_reply.started": "2022-01-05T19:51:55.956302Z"
    },
    "papermill": {
     "duration": 0.048843,
     "end_time": "2022-01-05T19:52:50.919418",
     "exception": false,
     "start_time": "2022-01-05T19:52:50.870575",
     "status": "completed"
    },
    "tags": []
   },
   "outputs": [
    {
     "data": {
      "application/javascript": [
       "parent.postMessage({\"jupyterEvent\": \"custom.exercise_interaction\", \"data\": {\"interactionType\": 2, \"questionType\": 1, \"questionId\": \"4_CandySplitting\", \"learnToolsVersion\": \"0.3.4\", \"valueTowardsCompletion\": 0.0, \"failureMessage\": \"\", \"exceptionClass\": \"\", \"trace\": \"\", \"outcomeType\": 4}}, \"*\")"
      ],
      "text/plain": [
       "<IPython.core.display.Javascript object>"
      ]
     },
     "metadata": {},
     "output_type": "display_data"
    },
    {
     "data": {
      "text/markdown": [
       "<span style=\"color:#3366cc\">Hint 1:</span> You'll probably want to use the modulo operator, `%`.\n",
       "(For another hint, call `.hint(2)`)"
      ],
      "text/plain": [
       "Hint 1: You'll probably want to use the modulo operator, `%`.\n",
       "(For another hint, call `.hint(2)`)"
      ]
     },
     "metadata": {},
     "output_type": "display_data"
    },
    {
     "data": {
      "application/javascript": [
       "parent.postMessage({\"jupyterEvent\": \"custom.exercise_interaction\", \"data\": {\"interactionType\": 3, \"questionType\": 1, \"questionId\": \"4_CandySplitting\", \"learnToolsVersion\": \"0.3.4\", \"valueTowardsCompletion\": 0.0, \"failureMessage\": \"\", \"exceptionClass\": \"\", \"trace\": \"\", \"outcomeType\": 4}}, \"*\")"
      ],
      "text/plain": [
       "<IPython.core.display.Javascript object>"
      ]
     },
     "metadata": {},
     "output_type": "display_data"
    },
    {
     "data": {
      "text/markdown": [
       "<span style=\"color:#33cc99\">Solution:</span> \n",
       "```python\n",
       "(alice_candies + bob_candies + carol_candies) % 3\n",
       "```"
      ],
      "text/plain": [
       "Solution: \n",
       "```python\n",
       "(alice_candies + bob_candies + carol_candies) % 3\n",
       "```"
      ]
     },
     "metadata": {},
     "output_type": "display_data"
    }
   ],
   "source": [
    "q4.hint()\n",
    "q4.solution()"
   ]
  },
  {
   "cell_type": "markdown",
   "id": "34e9c25f",
   "metadata": {
    "papermill": {
     "duration": 0.038287,
     "end_time": "2022-01-05T19:52:50.996858",
     "exception": false,
     "start_time": "2022-01-05T19:52:50.958571",
     "status": "completed"
    },
    "tags": []
   },
   "source": [
    "# Keep Going\n",
    "\n",
    "Next up, you'll **[learn to write new functions and understand functions others write](https://www.kaggle.com/colinmorris/functions-and-getting-help)**. This will make you at least 10 times more productive as a Python programmer. "
   ]
  },
  {
   "cell_type": "markdown",
   "id": "ba395932",
   "metadata": {
    "papermill": {
     "duration": 0.039097,
     "end_time": "2022-01-05T19:52:51.074926",
     "exception": false,
     "start_time": "2022-01-05T19:52:51.035829",
     "status": "completed"
    },
    "tags": []
   },
   "source": [
    "---\n",
    "\n",
    "\n",
    "\n",
    "\n",
    "*Have questions or comments? Visit the [course discussion forum](https://www.kaggle.com/learn/python/discussion) to chat with other learners.*"
   ]
  }
 ],
 "metadata": {
  "kernelspec": {
   "display_name": "Python 3",
   "language": "python",
   "name": "python3"
  },
  "language_info": {
   "codemirror_mode": {
    "name": "ipython",
    "version": 3
   },
   "file_extension": ".py",
   "mimetype": "text/x-python",
   "name": "python",
   "nbconvert_exporter": "python",
   "pygments_lexer": "ipython3",
   "version": "3.7.12"
  },
  "papermill": {
   "default_parameters": {},
   "duration": 12.742192,
   "end_time": "2022-01-05T19:52:51.725975",
   "environment_variables": {},
   "exception": null,
   "input_path": "__notebook__.ipynb",
   "output_path": "__notebook__.ipynb",
   "parameters": {},
   "start_time": "2022-01-05T19:52:38.983783",
   "version": "2.3.3"
  }
 },
 "nbformat": 4,
 "nbformat_minor": 5
}
